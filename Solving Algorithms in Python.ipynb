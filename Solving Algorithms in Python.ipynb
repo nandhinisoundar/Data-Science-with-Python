{
 "cells": [
  {
   "cell_type": "markdown",
   "metadata": {},
   "source": [
    "## Search Algorithm\n",
    "## ---------------------------\n",
    "### 1. Binary Search\n",
    "### 2. Linear Search\n",
    "### 3. Jump Search\n",
    "### 4. Exponential Search\n",
    "### 5. Interpolation Search\n",
    "### 6. Ternary Search"
   ]
  },
  {
   "cell_type": "code",
   "execution_count": 25,
   "metadata": {},
   "outputs": [],
   "source": [
    "#1.Binary Search - search with midpoints\n",
    "#Search a sorted array by repeatedly dividing the search interval in half.\n",
    "\n",
    "def bin_search(se,li):\n",
    "    top = 0\n",
    "    bottom = int(len(li)-1)\n",
    "    index = -1\n",
    "    \n",
    "    while index == -1 and bottom >= top:\n",
    "        import math as m\n",
    "        mid = int(m.floor((top+bottom)/2))\n",
    "       \n",
    "        if li[mid] == se:\n",
    "            index = mid\n",
    "            return index\n",
    "        elif li[mid] < se :\n",
    "            top = mid + 1\n",
    "        else:\n",
    "            bottom = mid -1\n",
    "    return index"
   ]
  },
  {
   "cell_type": "code",
   "execution_count": 26,
   "metadata": {},
   "outputs": [
    {
     "name": "stdout",
     "output_type": "stream",
     "text": [
      "3.00002098083\n"
     ]
    }
   ],
   "source": [
    "# Time taken to execute \n",
    "import time\n",
    "start = time.time()\n",
    "li = range(1 ,100000)\n",
    "bin_search(1111,li)\n",
    "print ((time.time()-start)*1000)\n"
   ]
  },
  {
   "cell_type": "code",
   "execution_count": 27,
   "metadata": {},
   "outputs": [
    {
     "data": {
      "text/plain": [
       "3"
      ]
     },
     "execution_count": 27,
     "metadata": {},
     "output_type": "execute_result"
    }
   ],
   "source": [
    "li = [1,2,3,4,5,6,7,8,9,10,11,12,13,14]\n",
    "bin_search(4,li)"
   ]
  },
  {
   "cell_type": "code",
   "execution_count": 28,
   "metadata": {},
   "outputs": [],
   "source": [
    "#2.Linear Search - Search every elements in the array until the serach value is found\n",
    "# It sequentially checks each element of the list for the target value until a match is found \n",
    "\n",
    "def fn_linsrch (se ,li):\n",
    "    length = len(li)\n",
    "    index = -1\n",
    "    for i in range (0,length):\n",
    "        if li[i] == se :\n",
    "            index = i\n",
    "            return index\n",
    "    return index"
   ]
  },
  {
   "cell_type": "code",
   "execution_count": 29,
   "metadata": {},
   "outputs": [
    {
     "name": "stdout",
     "output_type": "stream",
     "text": [
      "3.00002098083\n"
     ]
    }
   ],
   "source": [
    "# Time taken to execute \n",
    "import time\n",
    "start = time.time()\n",
    "li = range(1 ,100000)\n",
    "fn_linsrch(1111,li)\n",
    "print ((time.time()-start)*1000)\n"
   ]
  },
  {
   "cell_type": "code",
   "execution_count": 30,
   "metadata": {},
   "outputs": [
    {
     "data": {
      "text/plain": [
       "4"
      ]
     },
     "execution_count": 30,
     "metadata": {},
     "output_type": "execute_result"
    }
   ],
   "source": [
    "li = [2,3,4,5,6,7,8,9]\n",
    "fn_linsrch(6,li)"
   ]
  },
  {
   "cell_type": "code",
   "execution_count": 31,
   "metadata": {},
   "outputs": [],
   "source": [
    "#3.Jump Search - Search by dividing into equal number of blocks\n",
    "#Search a sorted array by checking every ith item until the right block is found, then doing a linear search.\n",
    "\n",
    "def fn_jumpsrch(se,li):\n",
    "    import math as m\n",
    "    left = 0\n",
    "    right = int(m.floor(m.sqrt(len(li))))\n",
    "    print \"%d\" %right \n",
    "    length = len(li)\n",
    "    index = -1\n",
    "    while right < length and se >= li[right]:\n",
    "        left = right\n",
    "        right += int(m.floor(m.sqrt(len(li))))\n",
    "        \n",
    "        if right > length-1:\n",
    "            right = length\n",
    "            break\n",
    "           \n",
    "    for i in range(left,right-1) :\n",
    "        if li[i] == se:\n",
    "            index = i\n",
    "            return index\n",
    "    return index\n",
    "            \n",
    "        "
   ]
  },
  {
   "cell_type": "code",
   "execution_count": 32,
   "metadata": {},
   "outputs": [
    {
     "name": "stdout",
     "output_type": "stream",
     "text": [
      "316\n",
      "2.00009346008\n"
     ]
    }
   ],
   "source": [
    "# Time taken to execute \n",
    "import time\n",
    "start = time.time()\n",
    "li = range(1 ,100000)\n",
    "fn_jumpsrch(1111,li)\n",
    "print ((time.time()-start)*1000)"
   ]
  },
  {
   "cell_type": "code",
   "execution_count": 33,
   "metadata": {},
   "outputs": [
    {
     "name": "stdout",
     "output_type": "stream",
     "text": [
      "3\n"
     ]
    },
    {
     "data": {
      "text/plain": [
       "3"
      ]
     },
     "execution_count": 33,
     "metadata": {},
     "output_type": "execute_result"
    }
   ],
   "source": [
    "li = [1,2,3,4,5,6,7,8,9]\n",
    "fn_jumpsrch(4,li)"
   ]
  },
  {
   "cell_type": "code",
   "execution_count": 34,
   "metadata": {},
   "outputs": [],
   "source": [
    "#4.Exponential Search \n",
    "\n",
    "def fn_expsrch(se,li):\n",
    "    left = 0\n",
    "    right = len(li)\n",
    "    i = 1\n",
    "    while i < (right-left)+1 :\n",
    "        if li[i] < se :\n",
    "            i = i*2\n",
    "        else :\n",
    "            break\n",
    "     \n",
    "    top = i/2\n",
    "    bottom = i\n",
    "    index = -1\n",
    "    \n",
    "    while index == -1 and bottom >= top:\n",
    "        import math as m\n",
    "        mid = int(m.floor((top+bottom)/2))\n",
    " \n",
    "        if li[mid] == se:\n",
    "            index = mid\n",
    "            return index\n",
    "        elif li[mid] < se :\n",
    "            top = mid + 1\n",
    "        else:\n",
    "            bottom = mid -1\n",
    "    return index\n"
   ]
  },
  {
   "cell_type": "code",
   "execution_count": 35,
   "metadata": {},
   "outputs": [
    {
     "name": "stdout",
     "output_type": "stream",
     "text": [
      "2.00009346008\n"
     ]
    }
   ],
   "source": [
    "# Time taken to execute \n",
    "import time\n",
    "start = time.time()\n",
    "li = range(1 ,100000)\n",
    "fn_expsrch(1111,li)\n",
    "print ((time.time()-start)*1000)"
   ]
  },
  {
   "cell_type": "code",
   "execution_count": 36,
   "metadata": {},
   "outputs": [
    {
     "data": {
      "text/plain": [
       "3"
      ]
     },
     "execution_count": 36,
     "metadata": {},
     "output_type": "execute_result"
    }
   ],
   "source": [
    "li = [1,2,3,4,5,6,7,8,9,10,11,12,13,14]\n",
    "fn_expsrch(4,li)"
   ]
  },
  {
   "cell_type": "code",
   "execution_count": 37,
   "metadata": {},
   "outputs": [],
   "source": [
    "#5.interpolation search \n",
    "# position = start + ((end-start)/(E(end)-E(start)) * (searchElement-E(start))\n",
    "#start = 0 , end = no of elements-1\n",
    "# where se is search element and li is the list of array\n",
    "def fn_interpolsrch(se,li):\n",
    "    start = 0\n",
    "    end = len(li)-1\n",
    "    index = -1\n",
    "   \n",
    "    while ( end >= start and li[start] <= se and li[end] >= se  ):\n",
    "        a1 = end - start\n",
    "        a2 = li[end] - li[start]\n",
    "        a3 = se -li[start]\n",
    "        pos = int(start + (a1/a2)*a3)\n",
    "        \n",
    "        if li[pos] == se :\n",
    "            index = pos\n",
    "            return index\n",
    "        elif se > li[pos]:\n",
    "            start = pos + 1\n",
    "        else :\n",
    "            end = pos -1\n",
    "    return index\n",
    "\n",
    "            "
   ]
  },
  {
   "cell_type": "code",
   "execution_count": 38,
   "metadata": {},
   "outputs": [
    {
     "name": "stdout",
     "output_type": "stream",
     "text": [
      "2.00009346008\n"
     ]
    }
   ],
   "source": [
    "# Time taken to execute \n",
    "import time\n",
    "start = time.time()\n",
    "li = range(1 ,100000)\n",
    "fn_interpolsrch(1111,li)\n",
    "print ((time.time()-start)*1000)"
   ]
  },
  {
   "cell_type": "code",
   "execution_count": 39,
   "metadata": {},
   "outputs": [
    {
     "data": {
      "text/plain": [
       "12"
      ]
     },
     "execution_count": 39,
     "metadata": {},
     "output_type": "execute_result"
    }
   ],
   "source": [
    "li = [1,2,3,4,5,6,7,8,9,10,11,12,13,14]\n",
    "fn_interpolsrch(13,li)"
   ]
  },
  {
   "cell_type": "code",
   "execution_count": 40,
   "metadata": {},
   "outputs": [],
   "source": [
    "#Ternary Search - similar to binary search but here we search the element with 2 midpoints.\n",
    "\n",
    "def fn_binsrch(se,li,left,right):\n",
    "    index = -1\n",
    "    while right>left and index ==-1:\n",
    "        import math as m\n",
    "        mid = int(m.floor((left+right)/2))\n",
    "        \n",
    "        if se == li[mid] :\n",
    "            index = mid\n",
    "            return index\n",
    "        elif se > li[mid]:\n",
    "            left = mid+1\n",
    "        else:\n",
    "            right = mid-1\n",
    "    return index\n",
    "\n",
    "def fn_Ternarysrch(se,li):\n",
    "    left = 0\n",
    "    right = len(li)\n",
    "    index = -1\n",
    "    while right > left and index == -1:\n",
    "        import math as m\n",
    "        firstmid = int(m.floor((left+right)/3))\n",
    "        secondmid = int(m.floor((firstmid+right)/3))\n",
    "        if (se == li[firstmid]):\n",
    "            index = firstmid\n",
    "            return index\n",
    "        elif (se == li[secondmid]):\n",
    "            index = secondmid\n",
    "            return index\n",
    "        elif (se < li[firstmid] ):\n",
    "            right = firstmid -1\n",
    "            index = fn_binsrch(se,li,left,right)\n",
    "        elif (se > li[firstmid] and se < li[secondmid]):\n",
    "            left = firstmid +1\n",
    "            right = secondmid -1\n",
    "            index = fn_binsrch(se,li,left,right)\n",
    "        elif (se > li[secondmid]):\n",
    "            left = secondmid +1\n",
    "            index = fn_binsrch(se,li,left,right)\n",
    "        else:\n",
    "            pass\n",
    "              \n",
    "        return index\n",
    "        \n"
   ]
  },
  {
   "cell_type": "code",
   "execution_count": 41,
   "metadata": {},
   "outputs": [
    {
     "name": "stdout",
     "output_type": "stream",
     "text": [
      "0.999927520752\n"
     ]
    }
   ],
   "source": [
    "# Time taken to execute \n",
    "import time\n",
    "start = time.time()\n",
    "li = range(1 ,100000)\n",
    "fn_Ternarysrch(1111,li)\n",
    "print ((time.time()-start)*1000)"
   ]
  },
  {
   "cell_type": "code",
   "execution_count": 42,
   "metadata": {},
   "outputs": [
    {
     "data": {
      "text/plain": [
       "8"
      ]
     },
     "execution_count": 42,
     "metadata": {},
     "output_type": "execute_result"
    }
   ],
   "source": [
    "li = [1,2,3,4,5,6,7,8,9,10,11,12,13,14]\n",
    "fn_Ternarysrch(9,li)"
   ]
  },
  {
   "cell_type": "markdown",
   "metadata": {},
   "source": [
    "## Sort Algorithms :\n",
    "## ------------------------\n",
    "### 1. Bubble Sort\n",
    "### 2. Selection Sort\n",
    "### 3. Insertion Sort\n",
    "### 4. Merge Sort\n",
    "### 5. Quick Sort\n",
    "### 6. Heap Sort\n",
    "### 7. Counting Sort(Integer Sort)\n",
    "\n"
   ]
  },
  {
   "cell_type": "code",
   "execution_count": 31,
   "metadata": {},
   "outputs": [],
   "source": [
    "#1.Bubble Sort:\n",
    "\n",
    "def fn_bubbleSort (li):\n",
    "    length = len(li)\n",
    "    \n",
    "    for a in range(length): \n",
    "        for b in range(0,length-(a+1)) :\n",
    "            if li[b] > li[b+1]:\n",
    "                temp = li[b]\n",
    "                li[b] = li[b+1]\n",
    "                li[b+1] = temp\n",
    "                "
   ]
  },
  {
   "cell_type": "code",
   "execution_count": 32,
   "metadata": {},
   "outputs": [
    {
     "name": "stdout",
     "output_type": "stream",
     "text": [
      "[1, 2, 3, 4, 5, 8, 9, 11, 12, 23, 32, 34, 45, 56, 67, 78]\n"
     ]
    }
   ],
   "source": [
    "li = [5,1,4,8,2,9,3,12,45,67,11,34,32,56,78,23]\n",
    "fn_bubbleSort(li)\n",
    "print li"
   ]
  },
  {
   "cell_type": "code",
   "execution_count": 24,
   "metadata": {},
   "outputs": [],
   "source": [
    "#2.Selection Sort:\n",
    "\n",
    "def fn_selectionSort(li):\n",
    "    length = len(li)\n",
    "    \n",
    "    for i in range(length):\n",
    "        min = i\n",
    "        for j in range(i+1,length):\n",
    "            if li[j] < li[min]:\n",
    "                min =j\n",
    "        temp = li[i]\n",
    "        li[i] = li[min]\n",
    "        li[min] = temp\n",
    "        "
   ]
  },
  {
   "cell_type": "code",
   "execution_count": 20,
   "metadata": {},
   "outputs": [
    {
     "name": "stdout",
     "output_type": "stream",
     "text": [
      "[1, 2, 3, 4, 5, 8, 9, 11, 12, 23, 32, 34, 45, 56, 67, 78]\n"
     ]
    }
   ],
   "source": [
    "li = [5,1,4,8,2,9,3,12,45,67,11,34,32,56,78,23]\n",
    "fn_selectionSort(li)\n",
    "print li"
   ]
  },
  {
   "cell_type": "code",
   "execution_count": 35,
   "metadata": {},
   "outputs": [],
   "source": [
    "#3.Insertion Sort:\n",
    "\n",
    "def fn_insertionSort(li):\n",
    "    length = len(li)\n",
    "    for i in range(1,length):\n",
    "        value = li[i]\n",
    "        hole = i\n",
    "        \n",
    "        while (hole > 0 and li[hole-1]>value):\n",
    "            li[hole] = li[hole-1]\n",
    "            hole = hole-1\n",
    "        li[hole] = value\n"
   ]
  },
  {
   "cell_type": "code",
   "execution_count": 36,
   "metadata": {},
   "outputs": [
    {
     "name": "stdout",
     "output_type": "stream",
     "text": [
      "[1, 2, 3, 4, 5, 8, 9, 11, 12, 23, 32, 34, 45, 56, 67, 78]\n"
     ]
    }
   ],
   "source": [
    "li = [5,1,4,8,2,9,3,12,45,67,11,34,32,56,78,23]\n",
    "fn_insertionSort(li)\n",
    "print li"
   ]
  },
  {
   "cell_type": "code",
   "execution_count": 118,
   "metadata": {},
   "outputs": [],
   "source": [
    "#4. Merge Sort\n",
    "#Algorithm:\n",
    "# Step 1: \n",
    "# Divide the array(li) based on the mid point if number of elements in the array is greater than 1.\n",
    "\n",
    "#Step 2:\n",
    "# len_right = length of array on the right.\n",
    "# len_left  = length of array on the left.\n",
    "# lr is right array (mid to n)\n",
    "# ll is left array  ( 0 to mid)\n",
    "# ls is sorted array output\n",
    "# i is the place of first element in left array(ll)\n",
    "# j is the place of first element in right array(lr)\n",
    "\n",
    "#step3:\n",
    "# while (i<len_left) and (j<len_right)\n",
    "#{\n",
    "# if (ll[i] < lr[j])  ----> take the 1st element in left and right array and compare which is smaller one.\n",
    "# then ls.append(ll[i])\n",
    "# now increment i = i+1 \n",
    "# else if (lr[j]<ll[i])\n",
    "# then ls.append(lr[j])\n",
    "# now increment j = j+1 \n",
    "#}\n",
    "\n",
    "#step4:\n",
    "#If either left array or right array elements is completely moved to sorted sorted array then the above while condition\n",
    "#will fail . In this we need to move rest of the elements from either left or right array.\n",
    "# while (i<len_left)\n",
    "#{\n",
    "# then ls.append(ll[i])\n",
    "# now increment i = i+1 \n",
    "#}\n",
    "# while (j < len_right)\n",
    "#{\n",
    "# then ls.append(lr[j])\n",
    "# now increment j =j +1 \n",
    "#}\n",
    "\n",
    "def fn_merge(ll,lr):\n",
    "    \n",
    "    len_left = len(ll)\n",
    "    len_right = len(lr)\n",
    "    ls=[]\n",
    "    \n",
    "    i = 0\n",
    "    j = 0\n",
    "      \n",
    "    while (i < len_left and j < len_right):\n",
    "        if (ll[i] < lr[j]):\n",
    "            ls.append(ll[i])\n",
    "            i = i+1\n",
    "        else:\n",
    "            ls.append(lr[j])\n",
    "            j = j+1\n",
    "    while (i < len_left) :\n",
    "        ls.append(ll[i])\n",
    "        i = i+1\n",
    "    while (j < len_right ):\n",
    "        ls.append(lr[j])\n",
    "        j = j+1\n",
    "        \n",
    "#    if i == len_left:\n",
    "#        ls.extend(lr[j:])\n",
    "#    else:\n",
    "#        ls.extend(ll[i:])\n",
    "    return ls\n",
    "        \n",
    "def fn_mergeSort(li):\n",
    "    import math as m\n",
    "    length = len(li)\n",
    "    if length <= 1:\n",
    "        return li\n",
    "   \n",
    "    mid = int(m.floor(length/2))\n",
    "    \n",
    "    ll=  fn_mergeSort(li[:mid])\n",
    "    lr = fn_mergeSort(li[mid:])\n",
    "    return fn_merge(ll,lr)\n"
   ]
  },
  {
   "cell_type": "code",
   "execution_count": 120,
   "metadata": {},
   "outputs": [
    {
     "data": {
      "text/plain": [
       "[1, 2, 3, 4, 5, 8, 9, 11, 12, 23, 32, 34, 45, 56, 67, 78]"
      ]
     },
     "execution_count": 120,
     "metadata": {},
     "output_type": "execute_result"
    }
   ],
   "source": [
    "li = [5,1,4,8,2,9,3,12,45,67,11,34,32,56,78,23]\n",
    "l = len(li)\n",
    "fn_mergeSort(li)"
   ]
  },
  {
   "cell_type": "code",
   "execution_count": 23,
   "metadata": {},
   "outputs": [],
   "source": [
    "#5.Quick Sort :\n",
    "#Algorithm:\n",
    "#QuickSort(array,startposition,endposition)\n",
    "#{\n",
    "# If the startposition is less than endposition then return as there is no element left to sort.\n",
    "# Pivot(array ,start,end)\n",
    "# Quicksort(array ,start,pivot-1)\n",
    "# Quicksort (array,pivot+1,end)\n",
    "#}\n",
    "#Pivot(array,start,end)\n",
    "#{\n",
    "# set last element in the array as pivot .\n",
    "# initialize partition position with 0.\n",
    "# for each instance between start and end element check if the element is less than pivot element\n",
    "#     elements lesser than pivot will be in the left side of the pivot and \n",
    "#     elemets larger than pivot will be in the right side of the pivot.\n",
    "# \n",
    "#}\n",
    "\n",
    "def fn_pivot(li,start,end):\n",
    "    part_pos = start\n",
    "    pivot = end\n",
    "    \n",
    "    for i in range(start,end):\n",
    "        if li[i] < li[pivot]:\n",
    "            temp = li[i]\n",
    "            li[i] = li[part_pos]\n",
    "            li[part_pos] = temp\n",
    "            part_pos += 1\n",
    "    temp = li[pivot]\n",
    "    li[pivot] = li[part_pos]\n",
    "    li[part_pos] = temp\n",
    "    return part_pos\n",
    "    \n",
    "def fn_quickSort(li,start,end):\n",
    "    if start <= end :\n",
    "        p = fn_pivot(li,start,end)\n",
    "        fn_quickSort(li,start,p-1)\n",
    "        fn_quickSort(li,p+1,end)"
   ]
  },
  {
   "cell_type": "code",
   "execution_count": 26,
   "metadata": {},
   "outputs": [
    {
     "name": "stdout",
     "output_type": "stream",
     "text": [
      "[1, 2, 3, 4, 5, 8, 9, 11, 12, 23, 32, 34, 45, 56, 67, 78]\n"
     ]
    }
   ],
   "source": [
    "li = [5,1,4,8,2,9,3,12,45,67,11,34,32,56,78,23]\n",
    "l = len(li)-1\n",
    "fn_quickSort(li,0,l)\n",
    "print li"
   ]
  },
  {
   "cell_type": "code",
   "execution_count": 82,
   "metadata": {},
   "outputs": [],
   "source": [
    "# 6.Heap Sort :\n",
    "# Max heap is used to sort the array in ascending order.\n",
    "# Left Child = 2 * Parent Index\n",
    "# Right Child = 2 * Parent Index + 1 \n",
    "\n",
    "def fn_heapify(li, first,last):\n",
    "    child = 2*first+1\n",
    "    while (child <= last):\n",
    "        if ( child < last ) and ( li[child] < li[child + 1] ):\n",
    "            child += 1\n",
    "       \n",
    "        if li[child] > li[first]:\n",
    "            tmp = li[child]\n",
    "            li[child] = li[first]\n",
    "            li[first] = tmp\n",
    "            \n",
    "            first = child;\n",
    "            child = 2 * first + 1\n",
    "        else:\n",
    "            return\n",
    "        \n",
    "def fn_heapSort(li):\n",
    "    l = len(li)-1\n",
    "    last_node= l/2\n",
    "   \n",
    "    for i in range(last_node,-1,-1):\n",
    "        fn_heapify(li, i, l)\n",
    "    \n",
    "    for i in range ( l, 0, -1 ):\n",
    "        if li[0] > li[i]:\n",
    "            tmp = li[0]\n",
    "            li[0] = li[i]\n",
    "            li[i] = tmp\n",
    "            fn_heapify( li, 0, i - 1 )\n",
    "  \n",
    "    \n"
   ]
  },
  {
   "cell_type": "code",
   "execution_count": 83,
   "metadata": {},
   "outputs": [
    {
     "name": "stdout",
     "output_type": "stream",
     "text": [
      "[1, 2, 3, 4, 5, 8, 9, 11, 12, 23, 32, 34, 45, 56, 67, 78]\n"
     ]
    }
   ],
   "source": [
    "li = [5,1,4,8,2,9,3,12,45,67,11,34,32,56,78,23]\n",
    "fn_heapSort(li)\n",
    "print li"
   ]
  },
  {
   "cell_type": "code",
   "execution_count": 1,
   "metadata": {},
   "outputs": [],
   "source": [
    "# 7.Counting Sort :\n",
    "\n",
    "def fn_countingSort(li):\n",
    "    higest_value = max(li)\n",
    "    l1 = [0 for i in range(higest_value+1)]\n",
    "    l2 = []\n",
    "    \n",
    "    for i in li:\n",
    "        l1[i] += 1\n",
    "\n",
    "    for i in range(len(l1)):\n",
    "        if l1[i] != 0:\n",
    "            for j in range(l1[i]):\n",
    "                l2.append(i)\n",
    "#            l2 += [ i for x in range(l1[i])]\n",
    "#            l2.append(i)\n",
    "    return l2\n",
    "        \n"
   ]
  },
  {
   "cell_type": "code",
   "execution_count": 106,
   "metadata": {},
   "outputs": [
    {
     "name": "stdout",
     "output_type": "stream",
     "text": [
      "[1, 2, 3, 3, 3, 4, 5, 5, 8, 9, 11, 11, 12, 23, 32, 34, 45, 56, 67, 78]\n"
     ]
    }
   ],
   "source": [
    "li = [5,5,1,4,8,2,9,3,3,12,45,67,11,11,34,32,3,56,78,23]\n",
    "ls=fn_countingSort(li)\n",
    "print ls"
   ]
  },
  {
   "cell_type": "code",
   "execution_count": null,
   "metadata": {},
   "outputs": [],
   "source": []
  }
 ],
 "metadata": {
  "kernelspec": {
   "display_name": "Python 2",
   "language": "python",
   "name": "python2"
  },
  "language_info": {
   "codemirror_mode": {
    "name": "ipython",
    "version": 2
   },
   "file_extension": ".py",
   "mimetype": "text/x-python",
   "name": "python",
   "nbconvert_exporter": "python",
   "pygments_lexer": "ipython2",
   "version": "2.7.14"
  }
 },
 "nbformat": 4,
 "nbformat_minor": 2
}
