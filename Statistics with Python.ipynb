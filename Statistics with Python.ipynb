{
 "cells": [
  {
   "cell_type": "code",
   "execution_count": 17,
   "metadata": {},
   "outputs": [],
   "source": [
    "import pandas as pd\n",
    "import numpy as np\n",
    "from math import sqrt\n",
    "from numpy import average, std\n",
    "import scipy.stats as st\n",
    "from statsmodels.formula.api import ols\n",
    "import statsmodels"
   ]
  },
  {
   "cell_type": "markdown",
   "metadata": {},
   "source": [
    "### Mean :"
   ]
  },
  {
   "cell_type": "code",
   "execution_count": 89,
   "metadata": {},
   "outputs": [],
   "source": [
    "# Mean = Summation of x / n \n",
    "# where x is number of observation \n",
    "# eg . x = 10,15,30,7,40,80\n",
    "# Mean = 10+15+30+7+40+80 / 6 = 30.33"
   ]
  },
  {
   "cell_type": "code",
   "execution_count": 83,
   "metadata": {},
   "outputs": [
    {
     "name": "stdout",
     "output_type": "stream",
     "text": [
      "50.0\n",
      "50.0\n",
      "50.0\n"
     ]
    }
   ],
   "source": [
    "#1.\n",
    "arr_1 = np.array([1,56,78,23,56,78,90,23,45])\n",
    "print arr_1.mean()\n",
    "\n",
    "#2.\n",
    "list_2 = [1,56,78,23,56,78,90,23,45]\n",
    "# convert list to array\n",
    "arr_2 = np.asarray(list_2)\n",
    "print arr_2.mean()\n",
    "\n",
    "#3.\n",
    "list_2 = [1,56,78,23,56,78,90,23,45]\n",
    "print average(list_2)"
   ]
  },
  {
   "cell_type": "markdown",
   "metadata": {},
   "source": [
    "### Median :"
   ]
  },
  {
   "cell_type": "code",
   "execution_count": 44,
   "metadata": {},
   "outputs": [
    {
     "name": "stdout",
     "output_type": "stream",
     "text": [
      "56.0\n",
      "56.0\n",
      "56.0\n"
     ]
    }
   ],
   "source": [
    "# Middle item when data is arranged in ascending or descending order.\n",
    "#1.\n",
    "arr_1 = np.array([1,56,78,23,56,78,90,23,45])\n",
    "print np.median(arr_1)\n",
    "\n",
    "#2.\n",
    "list_2 = [1,56,78,23,56,78,90,23,45]\n",
    "# convert list to array\n",
    "arr_2 = np.asarray(list_2)\n",
    "print np.median(arr_2)\n",
    "\n",
    "#3.\n",
    "list_2 = [1,56,78,23,56,78,90,23,45]\n",
    "print np.median(list_2)"
   ]
  },
  {
   "cell_type": "markdown",
   "metadata": {},
   "source": [
    "### Mode :"
   ]
  },
  {
   "cell_type": "code",
   "execution_count": 48,
   "metadata": {},
   "outputs": [
    {
     "name": "stdout",
     "output_type": "stream",
     "text": [
      "ModeResult(mode=array([23]), count=array([2]))\n",
      "ModeResult(mode=array([23]), count=array([2]))\n",
      "ModeResult(mode=array([23]), count=array([2]))\n"
     ]
    }
   ],
   "source": [
    "from scipy.stats import mode\n",
    "#1.\n",
    "arr_1 = np.array([1,56,78,23,56,78,90,23,45])\n",
    "print mode(arr_1)\n",
    "\n",
    "#2.\n",
    "list_2 = [1,56,78,23,56,78,90,23,45]\n",
    "# convert list to array\n",
    "arr_2 = np.asarray(list_2)\n",
    "print mode(arr_2)\n",
    "\n",
    "#3.\n",
    "list_2 = [1,56,78,23,56,78,90,23,45]\n",
    "print mode(list_2)"
   ]
  },
  {
   "cell_type": "markdown",
   "metadata": {},
   "source": [
    "### Ranking the data :"
   ]
  },
  {
   "cell_type": "code",
   "execution_count": 3,
   "metadata": {},
   "outputs": [
    {
     "name": "stdout",
     "output_type": "stream",
     "text": [
      "[  4.   1.   9.   5.  12.  10.   3.  11.   7.  14.   2.   8.   6.  13.]\n",
      "[  4.5   1.    8.5   4.5  11.5  10.    3.   11.5   8.5  14.    2.    7.\n",
      "   6.   13. ]\n"
     ]
    }
   ],
   "source": [
    "x = [23,1,45,29,78,49,22,72,41,90,11,42,33,79]\n",
    "print st.rankdata(x)\n",
    "\n",
    "# In case of repeated data elements.\n",
    "x = [23,1,45,23,78,49,22,78,45,90,11,42,33,79]\n",
    "print st.rankdata(x)"
   ]
  },
  {
   "cell_type": "markdown",
   "metadata": {},
   "source": [
    "### Standard Deviation :\n"
   ]
  },
  {
   "cell_type": "code",
   "execution_count": 90,
   "metadata": {},
   "outputs": [],
   "source": [
    "# Std = sqrt ( summation ( x-Mean)2 / N)\n",
    "# eg . x = 10,15,30,7,40,80\n",
    "# Std = sqrt ((10-30,15-30,30-30,7-30,40-30,80-30)2/6)\n",
    "#     = sqrt (400,225,0,529,100,2500)/6\n",
    "#     = sqrt (3754/6) = 25.01\n"
   ]
  },
  {
   "cell_type": "code",
   "execution_count": 88,
   "metadata": {},
   "outputs": [
    {
     "name": "stdout",
     "output_type": "stream",
     "text": [
      "28.134597128012256\n",
      "28.134597128012256\n",
      "28.134597128012256\n"
     ]
    }
   ],
   "source": [
    "#1.\n",
    "arr_1 = np.array([1,56,78,23,56,78,90,23,45])\n",
    "print arr_1.std()\n",
    "\n",
    "#2.\n",
    "list_2 = [1,56,78,23,56,78,90,23,45]\n",
    "# convert list to array\n",
    "arr_2 = np.asarray(list_2)\n",
    "print arr_2.std()\n",
    "\n",
    "#3.\n",
    "list_2 = [1,56,78,23,56,78,90,23,45]\n",
    "print std(list_2)"
   ]
  },
  {
   "cell_type": "markdown",
   "metadata": {},
   "source": [
    "### Standard Error :"
   ]
  },
  {
   "cell_type": "code",
   "execution_count": 102,
   "metadata": {},
   "outputs": [
    {
     "name": "stdout",
     "output_type": "stream",
     "text": [
      "The Standard error of mean is 7.004602\n"
     ]
    }
   ],
   "source": [
    "# standard error of mean = population standard deviation / sqrt(sample size)\n",
    "#eg. \n",
    "x = [40,39,40,10,98,76,39,63,20,19,60,97,37,20,95,22,36]\n",
    "mean = average(x)\n",
    "std  = std(x)\n",
    "n = len(x)-1\n",
    "\n",
    "SE = std/sqrt(n)\n",
    "print \"The Standard error of mean is %f\" %(SE)"
   ]
  },
  {
   "cell_type": "code",
   "execution_count": 93,
   "metadata": {},
   "outputs": [
    {
     "name": "stdout",
     "output_type": "stream",
     "text": [
      "The Standard error of mean is 7.004602\n"
     ]
    }
   ],
   "source": [
    "# Now lets use the python module to calculate the standard error of mean\n",
    "#scipy.stats.sem(a, axis=0, ddof=1)[source]\n",
    "\n",
    "x = [40,39,40,10,98,76,39,63,20,19,60,97,37,20,95,22,36]\n",
    "SE = st.sem(x)\n",
    "print \"The Standard error of mean is %f\" %(SE)\n"
   ]
  },
  {
   "cell_type": "code",
   "execution_count": 103,
   "metadata": {},
   "outputs": [
    {
     "name": "stdout",
     "output_type": "stream",
     "text": [
      "The Standard error of mean is 4.684920\n"
     ]
    }
   ],
   "source": [
    "# When the sample size increases the standard error decreases . Let check this\n",
    "x = [40,39,40,10,98,76,39,63,20,19,60,97,37,20,95,22,36,12,34,56,43,67,89,23,89,67,90,23,56,78,45,23,18,90,45]\n",
    "\n",
    "SE = st.sem(x)\n",
    "print \"The Standard error of mean is %f\" %(SE)\n"
   ]
  },
  {
   "cell_type": "code",
   "execution_count": 104,
   "metadata": {},
   "outputs": [
    {
     "name": "stdout",
     "output_type": "stream",
     "text": [
      "The Standard error of mean is 49.706606\n"
     ]
    }
   ],
   "source": [
    "# Standard error when the sampling is with replacement ie sampling with replacement implies that\n",
    "# when an item is sampled,it is put back in the population before choosing another item . Now the \n",
    "# formula for standard error of mean slightly varies.\n",
    "# Note if the size of sample (n) is very less lets take 3 and when size of population (N)  is large lets say 1000\n",
    "# then we can ignore the below as finite population correction factor is not required.\n",
    "\n",
    "# standard error of mean = (population standard deviation / sqrt(sample size) ) * sqrt((N-n)/N-1)\n",
    "\n",
    "x= [40,39,40,10,98,76,39,63,20,19,60,97,37,20,95,22,36,12,34,56,43,67,89,23,89,67,90,23,56,78,45,23,18,90,45]\n",
    "# from the above sample I just want to take first 10 samples and find standard error of mean .\n",
    "x_10 = [40,39,40,10,98,76,39,63,20,19]\n",
    "N = len(x)-1\n",
    "n = len(x_10)-1\n",
    "SE = st.sem(x_10) * sqrt (N-n/N-1)\n",
    "print \"The Standard error of mean is %f\" %(SE)"
   ]
  },
  {
   "cell_type": "markdown",
   "metadata": {},
   "source": [
    "### Determine the z value :"
   ]
  },
  {
   "cell_type": "code",
   "execution_count": 3,
   "metadata": {},
   "outputs": [
    {
     "name": "stdout",
     "output_type": "stream",
     "text": [
      "1.67\n",
      "0.452540318197\n",
      "91.0\n",
      "The probablity that the sample mean will be within + or - 4 from population mean 106 is 91.000000 percent\n"
     ]
    }
   ],
   "source": [
    "# z - how many standard deviation above or below mean the data value is.\n",
    "#The formula for z = sample mean -population mean/size of standard error\n",
    "\n",
    "#eg1. A random sample of n=25 was selected from a normally distributed population.The population mean is 106 and standard \n",
    "#deviation is 12.What is the probablity that the sample mean will be within + or - 4 from population mean.\n",
    "\n",
    "popMean= 106\n",
    "sampleMean = 4 +popMean\n",
    "n = 25\n",
    "std = 12\n",
    "se = std/sqrt(n)\n",
    "z1 =round((sampleMean - popMean)/se,2)\n",
    "print z1\n",
    "\n",
    "z = 0.5-(1-st.norm.cdf(abs(z1)))\n",
    "print z\n",
    "\n",
    "prob = round(z*2,2) * 100\n",
    "print prob\n",
    "print \"The probablity that the sample mean will be within + or - 4 from population mean %d is %f percent\" %(popMean,\n",
    "                                                                                                               prob)"
   ]
  },
  {
   "cell_type": "code",
   "execution_count": 7,
   "metadata": {},
   "outputs": [
    {
     "name": "stdout",
     "output_type": "stream",
     "text": [
      "There are 6.273000 in 100 of selecting the samples of size 200 with sample proportion greater than 0.450000 \n"
     ]
    }
   ],
   "source": [
    "# sampling distribution of sample proportion \n",
    "# standard deviation of proportion = sqrt(p(1-p)/n)\n",
    "# z = mean of sampling distribution - p /standard deviation\n",
    "# where mean of sampling distribution = mean of sampling distribution + or - 1/2n\n",
    "\n",
    "#eg2 A firm is engaged in the production of pocket calculators and has a large network of 1000 dealers all over the country.\n",
    "# Of these 1000 dealers , 40 % informed the firm that they planned to increase their orders for pocket calculators.\n",
    "# What is the probablity of drawing a simple random sample of 200 dealers with a sample proportion of distribution = 0.45 \n",
    "# or more.\n",
    "\n",
    "N = 1000\n",
    "n = 200\n",
    "p = 0.40\n",
    "meanofSD = 0.45\n",
    "\n",
    "\n",
    "std = sqrt(p*(1-p)/n) * sqrt(float(N-n)/float(N-1))\n",
    "z1 = ((meanofSD-(float(1)/float(2*n)))-p)/float(std)\n",
    "\n",
    "z = 1-st.norm.cdf(abs(z1))\n",
    "per = round(z *100,3)\n",
    "\n",
    "print \"There are %f in 100 of selecting the samples of size 200 with sample proportion greater than %f \" %(per,meanofSD)"
   ]
  },
  {
   "cell_type": "code",
   "execution_count": null,
   "metadata": {},
   "outputs": [],
   "source": [
    "# Note :\n",
    "# If the sample size is more than 5 % of population then Finite Correction Factor is used .\n",
    "# i.e standard deviation of proportion = sqrt(p(1-p)/n) * sqrt (N-n/N-1)"
   ]
  },
  {
   "cell_type": "markdown",
   "metadata": {},
   "source": [
    "### Get Confidence Interval :"
   ]
  },
  {
   "cell_type": "markdown",
   "metadata": {},
   "source": [
    "### 1. Interval estimate for small samples (sample size < or = 30) :"
   ]
  },
  {
   "cell_type": "markdown",
   "metadata": {},
   "source": [
    "#### Method 1 :  "
   ]
  },
  {
   "cell_type": "code",
   "execution_count": 6,
   "metadata": {},
   "outputs": [
    {
     "name": "stdout",
     "output_type": "stream",
     "text": [
      "We are 95 percent confidence that the mean population of 47 lies within the confidence Interval : 32.856127 , 62.555638\n",
      "We are 99 percent confidence that the mean population of 47 lies within the confidence Interval : 27.252445 , 68.159320\n"
     ]
    }
   ],
   "source": [
    "# When an array with sample size less than 30 is given, how to determine the confidence interval ?( Using t -table)\n",
    "# \n",
    "# traditional way thru statistics formula :\n",
    "# formula 1---> \n",
    "# confidence interval (upper limit) = x + t (std/sqrt(n))\n",
    "# confidence interval (lower limit) = x - t (std/sqrt(n))\n",
    "# where x is mean , std is standard deviation and n is number of sample.\n",
    "\n",
    "# Since the number of sample is less than 30 we need to use the t - table.\n",
    "\n",
    "# if the confidence level is 95%\n",
    "# t = t (len(a) -1 ,0.95 )\n",
    "#eg1.\n",
    "\n",
    "a = [40,39,40,10,98,76,39,63,20,19,60,97,37,20,95,22,36]\n",
    "Mean = average(a)\n",
    "standarddev = std(a ,ddof=1) \n",
    "#t(16,0.95) = 2.12 -- > By manually checking the values in t table.\n",
    "t_95 = 2.12\n",
    "\n",
    "CI_UpperLimit_95 = Mean + t_95 * ( standarddev/sqrt(len(a)) )\n",
    "CI_LowerLimit_95 = Mean - t_95 * ( standarddev/sqrt(len(a)) )\n",
    "print \"We are 95 percent confidence that the mean population of %d lies within the confidence Interval : %f , %f\" %(Mean,CI_LowerLimit_95,CI_UpperLimit_95)\n",
    "\n",
    "# if the confidence level is 99%\n",
    "# t = t (len(a) -1 ,0.99 ) \n",
    "\n",
    "#t(16,0.99) = 2.92 -- > By manually checking the values in t table.\n",
    "t_99 = 2.92\n",
    "\n",
    "CI_UpperLimit_99 = Mean + t_99 * ( standarddev/sqrt(len(a)) )\n",
    "CI_LowerLimit_99 = Mean - t_99 * ( standarddev/sqrt(len(a)) )\n",
    "print \"We are 99 percent confidence that the mean population of %d lies within the confidence Interval : %f , %f\" %(Mean,CI_LowerLimit_99,CI_UpperLimit_99)\n",
    "                                                              "
   ]
  },
  {
   "cell_type": "markdown",
   "metadata": {},
   "source": [
    "#### Method 2 :  "
   ]
  },
  {
   "cell_type": "code",
   "execution_count": 24,
   "metadata": {},
   "outputs": [
    {
     "name": "stdout",
     "output_type": "stream",
     "text": [
      "We are 95 percent confidence that the mean population of 47 lies within confidence Interval :32.856790, 62.554975\n",
      "We are 99 percent confidence that the mean population of 47 lies within confidence Interval : 27.246970, 68.164795\n"
     ]
    }
   ],
   "source": [
    "# Making the above traditional process simpler with scipy.stats :\n",
    "#eg2.\n",
    "a = [40,39,40,10,98,76,39,63,20,19,60,97,37,20,95,22,36]\n",
    "mean = average(a)\n",
    "standarddev = std(a, ddof=1) \n",
    "\n",
    "# If the confidence level is 95%\n",
    "interval_95 = st.t.interval(0.95, len(a) - 1)\n",
    "confidenceInterval_95 = [mean + c * standarddev / sqrt(len(a)) for c in interval_95]\n",
    "print \"We are 95 percent confidence that the mean population of %d lies within confidence Interval :%f, %f\" % (mean,confidenceInterval_95[0], confidenceInterval_95[1])\n",
    "\n",
    "# If the confidence level is 99%\n",
    "interval_99 = st.t.interval(0.99, len(a) - 1)\n",
    "confidenceInterval_99 = [mean + c * standarddev / sqrt(len(a)) for c in interval_99]\n",
    "print \"We are 99 percent confidence that the mean population of %d lies within confidence Interval : %f, %f\" % (mean,confidenceInterval_99[0], confidenceInterval_99[1])\n",
    "\n",
    "\n"
   ]
  },
  {
   "cell_type": "markdown",
   "metadata": {},
   "source": [
    "#### Method 3 :  "
   ]
  },
  {
   "cell_type": "code",
   "execution_count": 26,
   "metadata": {},
   "outputs": [
    {
     "name": "stdout",
     "output_type": "stream",
     "text": [
      "We are 95 percent confidence that the mean population of 47 lies within confidence Interval :32.856790, 62.554975\n",
      "We are 99 percent confidence that the mean population of 47 lies within confidence Interval :27.246970, 68.164795\n"
     ]
    }
   ],
   "source": [
    "# Same above example in simpler way .\n",
    "#eg2.\n",
    "a = [40,39,40,10,98,76,39,63,20,19,60,97,37,20,95,22,36]\n",
    "standarddev = std(a, ddof=1) \n",
    "se = st.sem(a)\n",
    "n = len(a)-1\n",
    "CI_95 = st.t.interval(0.95,                        \n",
    "                 df = n,   # Sample size                  \n",
    "                 loc = np.mean(a),  # Mean\n",
    "                 scale= se)   # Standard error\n",
    "\n",
    "print \"We are 95 percent confidence that the mean population of %d lies within confidence Interval :%f, %f\" % (mean,CI_95[0], CI_95[1])\n",
    "\n",
    "CI_99 = st.t.interval(0.99,                        \n",
    "                 df = n,                     \n",
    "                 loc = np.mean(a), \n",
    "                 scale= se)  \n",
    "\n",
    "print \"We are 99 percent confidence that the mean population of %d lies within confidence Interval :%f, %f\" % (mean,CI_99[0], CI_99[1])"
   ]
  },
  {
   "cell_type": "markdown",
   "metadata": {},
   "source": [
    "### 2. Interval estimate for large samples (sample size > or = 30) :"
   ]
  },
  {
   "cell_type": "code",
   "execution_count": 68,
   "metadata": {},
   "outputs": [
    {
     "name": "stdout",
     "output_type": "stream",
     "text": [
      "(-1.965912343229391, 1.965912343229391)\n",
      "We are 95 percent confidence that the mean population of 47 lies within confidence Interval : 880.340877, 919.659123\n"
     ]
    }
   ],
   "source": [
    "#eg3.\n",
    "# When mean and standard deviation value is given , how to determine the confidence interval?\n",
    "# A random sample of 400 firms was taken to find out the average sale per customer.\n",
    "# The sample mean was found to be Rs 900 and standard deviation Rs 200. Construct an interval estimate of population mean\n",
    "# with confidence level 95 percent.\n",
    "\n",
    "Mean = 900\n",
    "stddev = 200\n",
    "NoOfSamples = 400\n",
    "interval_95 = st.t.interval(0.95, NoOfSamples)\n",
    "\n",
    "confidenceInterval_95 = [Mean + c * stddev / sqrt(NoOfSamples) for c in interval_95]\n",
    "print \"We are 95 percent confidence that the mean population of %d lies within confidence Interval : %f, %f\" % (mean,confidenceInterval_95[0], confidenceInterval_95[1])\n"
   ]
  },
  {
   "cell_type": "code",
   "execution_count": 67,
   "metadata": {},
   "outputs": [
    {
     "name": "stdout",
     "output_type": "stream",
     "text": [
      "1.95996398454\n",
      "We are 95 percent confidence that the mean population of 900 lies within confidence Interval : 880.400360, 919.599640\n"
     ]
    }
   ],
   "source": [
    "#eg4.\n",
    "# When mean and standard deviation value is given , how to determine the confidence interval?\n",
    "# A random sample of 400 firms was taken to find out the average sale per customer.\n",
    "# The sample mean was found to be Rs 900 and standard deviation Rs 200. Construct an interval estimate of population mean\n",
    "# with confidence level 95 percent.\n",
    "\n",
    "Mean = 900\n",
    "stddev = 200\n",
    "NoOfSamples = 400\n",
    "z= st.norm.ppf(q = 0.95 +0.025 )\n",
    "StandardError = z * stddev / sqrt(NoOfSamples) \n",
    "\n",
    "CI_UpperLimit_95 = Mean + StandardError\n",
    "CI_LowerLimit_95 = Mean - StandardError\n",
    "print \"We are 95 percent confidence that the mean population of %d lies within confidence Interval : %f, %f\" % (Mean,CI_LowerLimit_95,CI_UpperLimit_95)\n"
   ]
  },
  {
   "cell_type": "markdown",
   "metadata": {},
   "source": [
    "### 3. Interval estimate of a population proportion :"
   ]
  },
  {
   "cell_type": "code",
   "execution_count": 45,
   "metadata": {},
   "outputs": [
    {
     "name": "stdout",
     "output_type": "stream",
     "text": [
      "We are 95 percent confidence that true percentage of televison ownership lies between : 76.080072, 83.919928\n"
     ]
    }
   ],
   "source": [
    "# lower limt = propotion of item - z * standard error of proportion\n",
    "# upper limt = propotion of item + z * standard error of proportion\n",
    "# where standard error of proportion = sqrt (propotion of item(1-propotion of item)/n)\n",
    "\n",
    "#eg1 .\n",
    "# Suppose that a simple random sample of 400 families show that 320 families own a telivision set and 80 do not.\n",
    "# In other words, 80 percent families own a television set. We have to construct a confidence interval with 95 \n",
    "# percent confidence.\n",
    "\n",
    "n = 400\n",
    "p = 0.80\n",
    "\n",
    "se = sqrt((p*(1-p))/n)\n",
    "z = st.norm.ppf(0.95+ 0.025)\n",
    "\n",
    "CI_lower_limit = (p - (z*se))*100\n",
    "CI_upper_limit = (p + (z*se))*100\n",
    "\n",
    "\n",
    "print \"We are 95 percent confidence that true percentage of televison ownership lies between : %f, %f\" % (CI_lower_limit,CI_upper_limit)\n"
   ]
  },
  {
   "cell_type": "markdown",
   "metadata": {},
   "source": [
    "### 4. Confidence  Interval for Mean Differences :"
   ]
  },
  {
   "cell_type": "code",
   "execution_count": 7,
   "metadata": {},
   "outputs": [
    {
     "name": "stdout",
     "output_type": "stream",
     "text": [
      "1.95996398454\n",
      "We are 95 percent confidence that the difference between two mean population lies between : 65.826860, 134.173140\n",
      "2.57582930355\n",
      "We are 99 percent confidence that the difference between two mean population lies between : 55.088881, 144.911119\n"
     ]
    }
   ],
   "source": [
    "# Confidence interval for difference between two population mean.\n",
    "# Lower Limit = Mean of Sample1 - Mean of Sample2 - z * sqrt((std1*std1)/N +(std2*std2)/N)\n",
    "# Upper Limit = Mean of Sample1 - Mean of Sample2 + z * sqrt((std1*std1)/N +(std2*std2)/N)\n",
    "# where std1 and std2 are standard deviation of two samples.\n",
    "# N - is size of two samples\n",
    "\n",
    "# eg1 . A sample of 100 brand A light bulbs showed mean lifetime of 1500 hours and standard deviation of 160 hours . \n",
    "# A sample of 300 brand B light bulbs showed mean lifetime of 1400 hours and standard deviation of 120 hours.\n",
    "# Find 95% and 99% confident limit for difference of the mean lifetime of two population.\n",
    "\n",
    "m1 = 1500\n",
    "m2 = 1400\n",
    "N1 = 100\n",
    "N2 = 300\n",
    "std1 = 160\n",
    "std2 = 120\n",
    "\n",
    "# With 95 % confidence limit.\n",
    "z = st.norm.ppf(0.95+ 0.025)\n",
    "print z\n",
    "\n",
    "CI_lower_limit = m1 - m2 - (z * sqrt((std1*std1)/N1 + (std2*std2)/N2))\n",
    "CI_upper_limit = m1 - m2 + (z * sqrt((std1*std1)/N1 + (std2*std2)/N2))\n",
    "print \"We are 95 percent confidence that the difference between two mean population lies between : %f, %f\" % (CI_lower_limit,CI_upper_limit)\n",
    "\n",
    "# With 99 % confidence limit.\n",
    "z = st.norm.ppf(0.99+ 0.005)\n",
    "print z\n",
    "CI_lower_limit = m1 - m2 - (z * sqrt((std1*std1)/N1 + (std2*std2)/N2))\n",
    "CI_upper_limit = m1 - m2 + (z * sqrt((std1*std1)/N1 + (std2*std2)/N2))\n",
    "print \"We are 99 percent confidence that the difference between two mean population lies between : %f, %f\" % (CI_lower_limit,CI_upper_limit)\n",
    "\n",
    "\n"
   ]
  },
  {
   "cell_type": "markdown",
   "metadata": {},
   "source": [
    "### 5. Confidence Interval for difference in population proportions:"
   ]
  },
  {
   "cell_type": "code",
   "execution_count": 34,
   "metadata": {},
   "outputs": [
    {
     "name": "stdout",
     "output_type": "stream",
     "text": [
      "We are 95 percent confidence that the difference between two population proportion lies between : -0.028410, 0.118410\n"
     ]
    }
   ],
   "source": [
    "# Confidence interval for difference between two population proportions.\n",
    "# Lower Limit = proportion of Sample1 - proportion of Sample2 - z * sqrt((p1*(1-p1))/n +(p2*(1-p2))/n)\n",
    "# Upper Limit = proportion of Sample1 - proportion of Sample2 + z * sqrt((p1*(1-p1))/n +(p2*(1-p2))/n)\n",
    "# where p1 and p2 are proportion of population of two samples.\n",
    "# n - is size of two samples\n",
    "\n",
    "#eg1. A sample of 100 bolts from one machine showed that 12 were defective . A sample of 200 bolts from\n",
    "# another machine showed 15 were defective . Find 95% confidence limit for the difference in proportion  \n",
    "# of defective bolts from two samples.\n",
    "\n",
    "p1 = float(12)/100\n",
    "p2 = float(15)/200\n",
    "n1 = 100\n",
    "n2 = 200\n",
    "\n",
    "z = st.norm.ppf(0.95+0.025)\n",
    "\n",
    "CI_lower_limit = (p1 - p2) - (z * (sqrt((p1*(1-p1)/n1) + (p2*(1-p2)/n2))))\n",
    "CI_upper_limit = (p1 - p2) + (z * (sqrt((p1*(1-p1)/n1) + (p2*(1-p2)/n2))))\n",
    "\n",
    "print \"We are 95 percent confidence that the difference between two population proportion lies between : %f, %f\" % (CI_lower_limit,CI_upper_limit)\n",
    "\n"
   ]
  },
  {
   "cell_type": "markdown",
   "metadata": {},
   "source": [
    "### 6. Confidence Interval Estimate for Standard deviation :"
   ]
  },
  {
   "cell_type": "code",
   "execution_count": 79,
   "metadata": {},
   "outputs": [
    {
     "name": "stdout",
     "output_type": "stream",
     "text": [
      "2.57582930355\n",
      "(-2.5881760800339126, 2.5881760800339126)\n",
      "We are 99 percent confidence that standard deviation lies between: 227.232670, 272.767330\n"
     ]
    }
   ],
   "source": [
    "# Confidence interval between standard deviation.\n",
    "# Lower Limit = std - z * std/sqrt(2 *N)\n",
    "# Upper Limit = std + z * std/sqrt(2 *N)\n",
    "# where std is standard deviation .\n",
    "# N - is size of sample\n",
    "\n",
    "# eg1. The standard deviation of the lifetimes of a sample of 400 tubes was found to be 250 hours.\n",
    "# Find 99% confidence limit for standard deviation.\n",
    "\n",
    "std = 250\n",
    "N = 400\n",
    "\n",
    "z = st.norm.ppf(0.99+0.005)\n",
    "print z\n",
    "\n",
    "CI_lower_limit = std - (z * (std/sqrt(2*N)))\n",
    "CI_upper_limit = std + (z * (std/sqrt(2*N)))\n",
    "                        \n",
    "print \"We are 99 percent confidence that standard deviation lies between: %f, %f\" % (CI_lower_limit,CI_upper_limit)\n",
    "                        "
   ]
  },
  {
   "cell_type": "markdown",
   "metadata": {},
   "source": [
    "### Determine Sample Size :"
   ]
  },
  {
   "cell_type": "markdown",
   "metadata": {},
   "source": [
    "### 1. Determine sample size for estimating a mean :"
   ]
  },
  {
   "cell_type": "code",
   "execution_count": 30,
   "metadata": {},
   "outputs": [
    {
     "name": "stdout",
     "output_type": "stream",
     "text": [
      "When the standard deviation is Rs. 300 and extent of precision is Rs + or - 50 , a sample of size 138.292518 has to be selected with 95 percent confidence\n"
     ]
    }
   ],
   "source": [
    "# n = (z*z) * (std*std) / (E*E)\n",
    "# where std is standard deviation , E is maximum error allowed and n is sample size\n",
    "\n",
    "# eg1 . Lets take standard deviation as Rs 300 and estimate of sample mean is with + or - Rs 50 of true population mean.\n",
    "# Estimate the sample size.\n",
    "\n",
    "std = 300\n",
    "E = 50\n",
    "# Lets consider 95% confidence limit\n",
    "z = st.norm.ppf(0.95+0.025)\n",
    "\n",
    "n = ((z*z)*(std*std))/(E*E)\n",
    "\n",
    "print \"When the standard deviation is Rs. %d and extent of precision is Rs + or - %d , a sample of size %f has to be selected with 95 percent confidence\" %(std,E,n)\n"
   ]
  },
  {
   "cell_type": "markdown",
   "metadata": {},
   "source": [
    "### 2. Determine sample size for a proportion :"
   ]
  },
  {
   "cell_type": "code",
   "execution_count": 32,
   "metadata": {},
   "outputs": [
    {
     "name": "stdout",
     "output_type": "stream",
     "text": [
      "When the population proportion is 60 percent and extent of precsion is 2 percent , a sample of size 2304.875292 has to be selected with 95 percent confidence\n"
     ]
    }
   ],
   "source": [
    "# n = (z*z)*(p*(1-p))/(E*E)\n",
    "# where p is population proportion , E is maximum error allowed and n is sample size.\n",
    "\n",
    "# eg1. Let us consider population proportion as 60 percent and standard error should not be more than 2 percent.\n",
    "# Estimate the sample size.\n",
    "\n",
    "p = 0.60\n",
    "E = 0.02\n",
    "\n",
    "p_percent = p*100\n",
    "E_percent = E*100\n",
    "\n",
    "#Lets consider 95% confidence limit\n",
    "z = st.norm.ppf(0.95+0.025)\n",
    "\n",
    "n = ((z*z)*(p*(1-p)))/(E*E)\n",
    "print \"When the population proportion is %d percent and extent of precsion is %d percent , a sample of size %f has to be selected with 95 percent confidence\" %(p_percent,E_percent,n)"
   ]
  },
  {
   "cell_type": "markdown",
   "metadata": {},
   "source": [
    "## Hypothesis testing :"
   ]
  },
  {
   "cell_type": "markdown",
   "metadata": {},
   "source": [
    "#### How to determine critical value z for two tailed , right tail and left tail test :"
   ]
  },
  {
   "cell_type": "code",
   "execution_count": 65,
   "metadata": {},
   "outputs": [
    {
     "name": "stdout",
     "output_type": "stream",
     "text": [
      "Critical value in two tailed test when significance level is 0.05 = 1.959964\n",
      "Critical value in left tail test when significance level is 0.05 = -1.644854\n",
      "Critical value in right tail test when significance level is 0.05 = 1.644854\n"
     ]
    }
   ],
   "source": [
    "#Note :\n",
    "#1.\n",
    "# When Ho is SampleMean = populationMean and H1 is SampleMean != populationMean then it is two tail test .\n",
    "# How to calclate critical value z in this case . Lets consider significance level 0.05\n",
    "z = st.norm.ppf(0.95+0.025)\n",
    "print \"Critical value in two tailed test when significance level is 0.05 = %f\" %(z)\n",
    "\n",
    "# There are also other ways to calculate z value :\n",
    "\n",
    "# z = st.t.interval(0.95,n) where n is sample size\n",
    "# z = st.t.ppf(0.95+0.025,df=n) where n is sample size\n",
    "\n",
    "#2.\n",
    "# When Ho is SampleMean >= populationMean and H1 is SampleMean < populationMean then it is left tail test .\n",
    "# How to calclate critical value z in this case . Lets consider significance level 0.05\n",
    "z = st.norm.ppf(0.95)\n",
    "print \"Critical value in left tail test when significance level is 0.05 = %f\" %(-z)\n",
    "\n",
    "#3.\n",
    "# When Ho is SampleMean <= populationMean and H1 is SampleMean > populationMean then it is right tail test .\n",
    "# How to calclate critical value z in this case . Lets consider significance level 0.05\n",
    "z = st.norm.ppf(0.95)\n",
    "print \"Critical value in right tail test when significance level is 0.05 = %f\" %(z)\n",
    "\n"
   ]
  },
  {
   "cell_type": "markdown",
   "metadata": {},
   "source": [
    "### 1. One sample t test :"
   ]
  },
  {
   "cell_type": "raw",
   "metadata": {},
   "source": [
    "One sample t -test is to compare the sample mean with population mean ."
   ]
  },
  {
   "cell_type": "markdown",
   "metadata": {},
   "source": [
    "#### Method 1:"
   ]
  },
  {
   "cell_type": "code",
   "execution_count": 56,
   "metadata": {},
   "outputs": [
    {
     "name": "stdout",
     "output_type": "stream",
     "text": [
      "The value of significance is 1.644854\n",
      "The t value is 2.645751 \n"
     ]
    }
   ],
   "source": [
    "# Steps involved in Hypothesis testing :\n",
    "# Step 1: Define Ho and H1\n",
    "# Step 2: Define suitable level of significance\n",
    "# Step 3: Determine appropriate statistical technique as test criterion\n",
    "# Step 4: Compute\n",
    "# Step 5: Make decision whether to accept or reject Ho\n",
    "\n",
    "#Eg1.A company is engaged in manufacture of car tyre. Their mean life is 42,000 km with standard deviation of 3000 km.\n",
    "# A test sample of 28  new tyres has mean life of 43,500 km.Do you think the new car tyre are significantly superior to\n",
    "# earlier one. Test the hypothesis at 5 percent level of significance.\n",
    "\n",
    "n = 28\n",
    "sampleMean = 43500\n",
    "popMean = 42000\n",
    "std = 3000\n",
    "\n",
    "se = 3000/sqrt(n)\n",
    "\n",
    "# Step 1:\n",
    "#     Ho : Mean < or = 42000 Km\n",
    "#     H1 : Mean > 42000 Km    #right tail test\n",
    "    \n",
    "# Step 2: Level of significance = 0.05\n",
    "t1 = st.norm.ppf(0.95)\n",
    "print \"The value of significance is %f\" %(t1)\n",
    "\n",
    "\n",
    "# Step 3: As sample size is less than 30 t-test is used .\n",
    "\n",
    "# Step 4:\n",
    "t2 = (sampleMean - popMean)/se\n",
    "print \"The t value is %f \" %(t2)\n",
    "\n",
    "# Step5 :\n",
    "# Desision : As level of significance value 1.64 is less than t value which is 2.645 \n",
    "#            Ho (Null Hypothesis)  is rejected and H1 (alternative hypothesis) is accepted.\n",
    "\n",
    "\n"
   ]
  },
  {
   "cell_type": "markdown",
   "metadata": {},
   "source": [
    "#### Method 2:"
   ]
  },
  {
   "cell_type": "code",
   "execution_count": 112,
   "metadata": {},
   "outputs": [
    {
     "name": "stdout",
     "output_type": "stream",
     "text": [
      "Ttest_1sampResult(statistic=-0.44660917827444746, pvalue=0.66570997770070373)\n",
      "At 95 percent confidence level the pvalue 0.665710 is greater than significance level value of 0.050000 , Ho is not rejected\n",
      "There is 66.570998 percent chance of obtaining the sample mean = 73 equal to or more than population mean = 75\n"
     ]
    }
   ],
   "source": [
    "# Lets make the above process easier.\n",
    "# how p-value of test works -\n",
    "# --->If the P-value is greater than or equal to level of significance , Ho is not rejected.\n",
    "# --->If the P-value is less than level of significance , Ho is not rejected.\n",
    "\n",
    "# Above eg2 .\n",
    "# Let us consider the weight of sample of 10 men in kg [80,78,67,90,60,50,89,77,81,59].\n",
    "# the population mean is 75.Let us take the confidence limit as 0.05\n",
    "\n",
    "sampleMean = [80,78,67,90,60,50,89,77,81,59]\n",
    "s_mean = np.mean(sampleMean)\n",
    "popmean = 75\n",
    "significanceLevel = 0.05\n",
    "\n",
    "# Step 1:\n",
    "#     Ho : Mean = 75\n",
    "#     H1 : Mean != 75\n",
    "    \n",
    "p = st.ttest_1samp(a=sampleMean, popmean= 75) \n",
    "print p\n",
    "p_per = p[1] *100\n",
    "\n",
    "print \"At 95 percent confidence level the pvalue %f is greater than significance level value of %f , Ho is not rejected\" %(p[1],significanceLevel)\n",
    "print \"There is %f percent chance of obtaining the sample mean = %d equal to or more than population mean = %d\" %(p_per,s_mean,popmean)\n"
   ]
  },
  {
   "cell_type": "code",
   "execution_count": 10,
   "metadata": {},
   "outputs": [
    {
     "name": "stdout",
     "output_type": "stream",
     "text": [
      "Ttest_1sampResult(statistic=5.4298273779682651, pvalue=0.00041646541627775915)\n",
      "At 95 percent confidence level the pvalue 0.000416 is less than significance level value of 0.050000 , Ho is rejected\n",
      "There is only 0.041647 percent chance of obtaining the sample mean = 73 less than population mean = 50\n"
     ]
    }
   ],
   "source": [
    "# Above eg2 .\n",
    "# Let us consider the weight of sample of 10 men in kg [80,78,67,90,60,50,89,77,81,59].\n",
    "# the population mean is 50.Let us take the confidence limit as 0.05\n",
    "\n",
    "sampleMean = [80,78,67,90,60,50,89,77,81,59]\n",
    "s_mean = np.mean(sampleMean)\n",
    "s_std = std(sampleMean)\n",
    "popmean = 50\n",
    "significanceLevel = 0.05\n",
    "\n",
    "# Step 1:\n",
    "#     Ho : Mean = 50\n",
    "#     H1 : Mean != 50\n",
    "    \n",
    "p = st.ttest_1samp(a=sampleMean, popmean= 50) \n",
    "print p\n",
    "p_per = p[1] *100\n",
    "\n",
    "print \"At 95 percent confidence level the pvalue %f is less than significance level value of %f , Ho is rejected\" %(p[1],significanceLevel)\n",
    "print \"There is only %f percent chance of obtaining the sample mean = %d less than population mean = %d\" %(p_per,s_mean,popmean)\n",
    "\n",
    "# If we increase the confidence level to 0.01 that is 99% still the pvalue is less than the significance level value.\n"
   ]
  },
  {
   "cell_type": "code",
   "execution_count": 11,
   "metadata": {},
   "outputs": [
    {
     "name": "stdout",
     "output_type": "stream",
     "text": [
      "(21.74251555871794, 124.45748444128174)\n",
      "(31.622879730195841, 114.57712026980414)\n",
      "(40.25096020577822, 105.94903979422176)\n",
      "(44.228457598110595, 101.97154240188939)\n",
      "(49.704279033188939, 96.495720966811035)\n",
      "(55.448630094620086, 90.751369905379903)\n",
      "(60.24109641434643, 85.958903585653573)\n"
     ]
    }
   ],
   "source": [
    "# For the above example 2 , let us check the significance level and interval of weight of men.\n",
    "# If the confidence level increases the interval also increases.\n",
    "\n",
    "\n",
    "# With confidence level 99.7%\n",
    "print st.t.interval(alpha = 0.997,df = 9, loc = s_mean,scale= s_std) \n",
    "\n",
    "# With confidence level 99%\n",
    "print st.t.interval(alpha = 0.99,df = 9, loc = s_mean,scale= s_std) \n",
    "\n",
    "# With confidence level 97%\n",
    "print st.t.interval(alpha = 0.97,df = 9, loc = s_mean,scale= s_std) \n",
    "\n",
    "# With confidence level 95%\n",
    "print st.t.interval(alpha = 0.95,df = 9, loc = s_mean,scale= s_std) \n",
    "\n",
    "# With confidence level 90%\n",
    "print st.t.interval(alpha = 0.90,df = 9, loc = s_mean,scale= s_std) \n",
    "\n",
    "# With confidence level 80%\n",
    "print st.t.interval(alpha = 0.80,df = 9, loc = s_mean,scale= s_std)\n",
    "\n",
    "# With confidence level 66%\n",
    "print st.t.interval(alpha = 0.66,df = 9, loc = s_mean,scale= s_std)"
   ]
  },
  {
   "cell_type": "markdown",
   "metadata": {},
   "source": [
    "### 2. Two sample t test : ( Independant or Unpaired)"
   ]
  },
  {
   "cell_type": "raw",
   "metadata": {},
   "source": [
    "A two-sample t-test checks whether the means of two independent data samples differ from one another. "
   ]
  },
  {
   "cell_type": "code",
   "execution_count": 93,
   "metadata": {},
   "outputs": [
    {
     "name": "stdout",
     "output_type": "stream",
     "text": [
      "Mean weight of Men =73.100000\n",
      "Mean weight of Women =61.500000\n",
      "Standard deviation of weight of Men =12.762837\n",
      "Standard deviation of weight of Women =11.164676\n",
      "Ttest_indResult(statistic=2.0522492694749945, pvalue=0.05524848386104135)\n",
      "As pvalue 0.055248 is greater than or equal to critical value 0.05, We are 95 percent confidence that male sample mean will be equal to female sample mean with chance of 5.524848 percent of data being different when tested \n"
     ]
    }
   ],
   "source": [
    "# eg1.\n",
    "# Let us consider the weight of sample of 10 men in kg [80,78,67,90,60,50,89,77,81,59] and \n",
    "# weight of sample of 10 women in kg [66,56,47,58,69,77,81,46,,54,61]  .Let us take the confidence limit as 0.05.\n",
    "\n",
    "# Ho : mean weight of male sample = mean weight of female sample\n",
    "# H1 : mean weight of male sample != mean weight of female sample\n",
    "# Significance level = 0.05\n",
    "\n",
    "male_weight = [80,78,67,90,60,50,89,77,81,59]\n",
    "female_weight = [66,56,47,58,69,77,81,46,54,61]\n",
    "\n",
    "M_mean = np.mean(male_weight)\n",
    "F_mean = np.mean(female_weight)\n",
    "print \"Mean weight of Men =%f\" %(M_mean)\n",
    "print \"Mean weight of Women =%f\" %(F_mean)\n",
    "\n",
    "M_std = np.std(male_weight)\n",
    "F_std = np.std(female_weight)\n",
    "print \"Standard deviation of weight of Men =%f\" %(M_std)\n",
    "print \"Standard deviation of weight of Women =%f\" %(F_std)\n",
    "\n",
    "p = st.ttest_ind(a= male_weight,\n",
    "                b= female_weight,\n",
    "                equal_var=False) # Assuming variance are not equal\n",
    "print p\n",
    "p_percent = p[1] * 100\n",
    "\n",
    "print \"As pvalue %f is greater than or equal to critical value 0.05, We are 95 percent confidence that male sample mean will be equal to female sample mean with chance of %f percent of data being different when tested \" %(p[1],p_percent)"
   ]
  },
  {
   "cell_type": "markdown",
   "metadata": {},
   "source": [
    "### 3. Two sample t test : (Paired)"
   ]
  },
  {
   "cell_type": "raw",
   "metadata": {},
   "source": [
    "A two-sample t-test checks whether the means of two data samples(sample selected from first population is related to sample selected from second population) differ from one another. "
   ]
  },
  {
   "cell_type": "code",
   "execution_count": 147,
   "metadata": {},
   "outputs": [
    {
     "name": "stdout",
     "output_type": "stream",
     "text": [
      "Mean weight of Women before pregnancy =59.500000\n",
      "Mean weight of Women after pregnancy =69.500000\n",
      "Standard deviation of weight of Women before pregnancy =5.886425\n",
      "Standard deviation of weight of Women after pregnancy =9.189668\n",
      "Ttest_relResult(statistic=-4.0525742021872437, pvalue=0.0028737982272185993)\n",
      "As pvalue 0.002874 is less than critical value 0.05,  the mean weight of women pre and post pregnancy are not equal\n"
     ]
    }
   ],
   "source": [
    "# eg1.\n",
    "# Let us consider the weight of sample of 10 women before and after pregnancy in kg [60,58,67,70,60,53,59,61,48,59] and \n",
    "#  [66,88,77,76,69,62,74,68,54,61]  .Let us take the confidence limit as 0.05.\n",
    "\n",
    "# Ho : mean weight of female sample before pregnancy  =  mean weight of female sample after pregnancy\n",
    "# H1 : mean weight of female sample before pregnancy  !=  mean weight of female sample after pregnancy\n",
    "# Significance level = 0.05\n",
    "\n",
    "weight_before = [60,58,67,70,60,53,59,61,48,59]\n",
    "weight_after = [66,88,77,76,69,62,74,68,54,61]\n",
    "\n",
    "B_mean = np.mean(weight_before)\n",
    "A_mean = np.mean(weight_after)\n",
    "print \"Mean weight of Women before pregnancy =%f\" %(B_mean)\n",
    "print \"Mean weight of Women after pregnancy =%f\" %(A_mean)\n",
    "\n",
    "B_std = np.std(weight_before)\n",
    "A_std = np.std(weight_after)\n",
    "print \"Standard deviation of weight of Women before pregnancy =%f\" %(B_std)\n",
    "print \"Standard deviation of weight of Women after pregnancy =%f\" %(A_std)\n",
    "\n",
    "p = st.ttest_rel(a=weight_before,\n",
    "                b=weight_after)\n",
    "print p\n",
    "p_percent = p[1] * 100\n",
    "\n",
    "print \"As pvalue %f is less than critical value 0.05,  the mean weight of women pre and post pregnancy are not equal\" %(p[1]) "
   ]
  },
  {
   "cell_type": "markdown",
   "metadata": {},
   "source": [
    "###  ANOVA  Analysis of Variance test :"
   ]
  },
  {
   "cell_type": "raw",
   "metadata": {},
   "source": [
    "To compare several population mean at same time."
   ]
  },
  {
   "cell_type": "code",
   "execution_count": 2,
   "metadata": {},
   "outputs": [
    {
     "name": "stdout",
     "output_type": "stream",
     "text": [
      "   Sem1  Sem2  Sem3\n",
      "0    65    45    98\n",
      "1    45    77    56\n",
      "2    67    90    83\n",
      "3    78    89    78\n",
      "4    45    78    49\n"
     ]
    }
   ],
   "source": [
    "# Eg 1 :Let us consider the mark of student1 in semester 1 ,2 and 3 in various subjects.\n",
    "\n",
    "Sem1 = [65,45,67,78,45]\n",
    "Sem2 = [45,77,90,89,78]\n",
    "Sem3 = [98,56,83,78,49]\n",
    "\n",
    "\n",
    "Stud1_Marks = pd.DataFrame({\"Sem1\":Sem1,\"Sem2\":Sem2,\"Sem3\":Sem3})\n",
    "print Stud1_Marks"
   ]
  },
  {
   "cell_type": "markdown",
   "metadata": {},
   "source": [
    "#### Method 1: Using the stat module for ANOVA"
   ]
  },
  {
   "cell_type": "code",
   "execution_count": 4,
   "metadata": {},
   "outputs": [
    {
     "data": {
      "text/plain": [
       "F_onewayResult(statistic=1.1136651202024461, pvalue=0.36003689054230087)"
      ]
     },
     "execution_count": 4,
     "metadata": {},
     "output_type": "execute_result"
    }
   ],
   "source": [
    "#Step 1:\n",
    "# Ho : Mean1=Mean2=Mean3\n",
    "# H1 : Atleast one pair is not equal\n",
    "\n",
    "# Step2:\n",
    "# Significance level is 0.05.\n",
    "\n",
    "st.f_oneway(Sem1,Sem2,Sem3)\n",
    "# The p value 0.360 is more than significance level 0.05 . Hence Ho is accepted."
   ]
  },
  {
   "cell_type": "markdown",
   "metadata": {},
   "source": [
    "#### Method 2 : Let us check if the above is correct using statistics formula:"
   ]
  },
  {
   "cell_type": "code",
   "execution_count": null,
   "metadata": {},
   "outputs": [],
   "source": [
    "# Above example eg1 using statistics formula :\n",
    "#Step 1:\n",
    "# Ho : Mean1=Mean2=Mean3\n",
    "# H1 : Atleast one pair is not equal\n",
    "\n",
    "#Step2:\n",
    "# We use F-distribution\n",
    "\n",
    "# Step3:\n",
    "# Significance level is 0.05.\n",
    "# degree of freedom of numerator = k-1 = 3-1 =2\n",
    "# degree of freedom of Denominator = n-k = 15-3=12\n",
    "# F(12,2) for significance level 0.05 is 3.8853\n",
    "\n",
    "# Note : If calculated f-value is less than f-distribution then Ho is accepted.\n",
    "\n",
    "# Step 4 :\n",
    "# f = (Sum of square of variance between Samples/k-1)/ (Sum of square of variance within Samples/n-k)\n",
    "\n",
    "SSB = 352.05 \n",
    "SSW = 316.13 \n",
    "\n",
    "f = SSB/SSW = 1.11\n",
    "\n",
    "# Step 5 :\n",
    "# As the calculated f-value 1.11 is less than f-distribution table value 3.88 , Ho is accepted.\n"
   ]
  },
  {
   "cell_type": "code",
   "execution_count": 5,
   "metadata": {},
   "outputs": [
    {
     "name": "stdout",
     "output_type": "stream",
     "text": [
      "   Sem1  Sem2  Sem3\n",
      "0    65    45   100\n",
      "1    45    77   100\n",
      "2    67    90   100\n",
      "3    78    89    99\n",
      "4    45    78   100\n"
     ]
    }
   ],
   "source": [
    "# Eg 2 :Let us consider the mark of student1 in semester 1 ,2 and 3 in various subjects.\n",
    "\n",
    "Sem1 = [65,45,67,78,45]\n",
    "Sem2 = [45,77,90,89,78]\n",
    "Sem3 = [100,100,100,99,100]\n",
    "\n",
    "\n",
    "Stud1_Marks = pd.DataFrame({\"Sem1\":Sem1,\"Sem2\":Sem2,\"Sem3\":Sem3})\n",
    "print Stud1_Marks"
   ]
  },
  {
   "cell_type": "code",
   "execution_count": 23,
   "metadata": {},
   "outputs": [
    {
     "name": "stdout",
     "output_type": "stream",
     "text": [
      "60.0\n",
      "75.8\n",
      "99.8\n"
     ]
    }
   ],
   "source": [
    "Semester1 = Stud1_Marks[\"Sem1\"]\n",
    "Semester2 = Stud1_Marks[\"Sem2\"]\n",
    "Semester3 = Stud1_Marks[\"Sem3\"]\n",
    "print Semester1.mean(); \n",
    "print Semester2.mean(); \n",
    "print Semester3.mean()"
   ]
  },
  {
   "cell_type": "code",
   "execution_count": 6,
   "metadata": {},
   "outputs": [
    {
     "data": {
      "text/plain": [
       "F_onewayResult(statistic=11.055606533308858, pvalue=0.001895415778579304)"
      ]
     },
     "execution_count": 6,
     "metadata": {},
     "output_type": "execute_result"
    }
   ],
   "source": [
    "#Step 1:\n",
    "# Ho : Mean1=Mean2=Mean3\n",
    "# H1 : Atleast one pair is not equal\n",
    "\n",
    "#Step2:\n",
    "# We use F-distribution\n",
    "\n",
    "# Step3:\n",
    "# Significance level is 0.05.\n",
    "\n",
    "st.f_oneway(Sem1,Sem2,Sem3)\n",
    "# The p value 0.001 is less than significance level 0.05 . Hence Ho is rejected."
   ]
  },
  {
   "cell_type": "code",
   "execution_count": 14,
   "metadata": {},
   "outputs": [
    {
     "name": "stdout",
     "output_type": "stream",
     "text": [
      "[('Sem1', 'Sem2'), ('Sem1', 'Sem3'), ('Sem2', 'Sem3')]\n",
      "Sem1 Sem2\n",
      "Ttest_indResult(statistic=-1.5137822253103326, pvalue=0.16854049116495148)\n",
      "Sem1 Sem3\n",
      "Ttest_indResult(statistic=-6.1093553204628908, pvalue=0.00028650376409129725)\n",
      "Sem2 Sem3\n",
      "Ttest_indResult(statistic=-2.9413001581965057, pvalue=0.018672469303349114)\n"
     ]
    }
   ],
   "source": [
    "# Now we want to know which group caused the Ho to be rejected.\n",
    "# Now lets perform a independent two sample t test on each pair.\n",
    "\n",
    "Semester = [\"Sem1\",\"Sem2\",\"Sem3\"]\n",
    "s_pairs = []\n",
    "for s1 in range (2):\n",
    "    for s2 in range(s1+1,3):\n",
    "        s_pairs.append((Semester[s1],Semester[s2]))\n",
    "print s_pairs\n",
    "\n",
    "for s1,s2 in s_pairs:\n",
    "    print s1,s2\n",
    "    print st.ttest_ind(a=Stud1_Marks[s1], b= Stud1_Marks[s2])\n",
    "    \n",
    "# From the above independent two sample t test we can confirm than Sem3 should have been the reason for the difference.\n",
    "       "
   ]
  },
  {
   "cell_type": "markdown",
   "metadata": {},
   "source": [
    "### Chi-Square test :"
   ]
  },
  {
   "cell_type": "markdown",
   "metadata": {},
   "source": [
    "#### 1. Goodness-of-fit test :"
   ]
  },
  {
   "cell_type": "raw",
   "metadata": {},
   "source": [
    "Test of hypothesis for experiment with more than two categories .\n",
    "\n",
    "Chi-Square = Summation ( Observed - Expected)2/Expected\n",
    "Expected = (Row Total * Column Total)/Grand Total"
   ]
  },
  {
   "cell_type": "code",
   "execution_count": 23,
   "metadata": {},
   "outputs": [
    {
     "name": "stdout",
     "output_type": "stream",
     "text": [
      "                       NE  NW  SE  SW\n",
      "purchase_brand         40  55  45  50\n",
      "Do_not_purchase_brand  60  45  55  50\n"
     ]
    }
   ],
   "source": [
    "# eg1 :\n",
    "\n",
    "x = {\"NE\" : [40,60],\n",
    "    \"NW\":[55,45],\n",
    "    \"SE\" :[45,55],\n",
    "    \"SW\":[50,50]}\n",
    "\n",
    "df = pd.DataFrame(x,index=['purchase_brand','Do_not_purchase_brand'])\n",
    "print df"
   ]
  },
  {
   "cell_type": "markdown",
   "metadata": {},
   "source": [
    "#### Method 1:"
   ]
  },
  {
   "cell_type": "code",
   "execution_count": 25,
   "metadata": {},
   "outputs": [
    {
     "name": "stdout",
     "output_type": "stream",
     "text": [
      "[40 55 45 50 60 45 55 50]\n",
      "[47.5, 47.5, 47.5, 47.5, 52.5, 52.5, 52.5, 52.5]\n",
      "[ 1.18421053  1.18421053  0.13157895  0.13157895  1.07142857  1.07142857\n",
      "  0.11904762  0.11904762]\n",
      "5.01253132832\n"
     ]
    }
   ],
   "source": [
    "# Step 1:\n",
    "# Ho : Observed = Expected\n",
    "# H1 : Observed != Expected\n",
    "\n",
    "# Step 2:\n",
    "# no_of_rows = 2\n",
    "# no_of_cols = 4\n",
    "\n",
    "# df = (no_of_rows-1)*(no_of_cols-1) = 3\n",
    "\n",
    "# The value of chi-square for degree of freedom 3 and significance level 0.05 is 7.815\n",
    "\n",
    "# Step 3:\n",
    "# Now we need to determine the observed and Expected values.\n",
    "Ob = df[['NE', 'NW', 'SE','SW']].values.tolist()\n",
    "Observed= np.concatenate( Ob, axis=0 )\n",
    "print Observed\n",
    "\n",
    "Grand_Total = Observed.sum()\n",
    "Row_total = df.sum(1)\n",
    "Column_total = df.sum(0)\n",
    "\n",
    "Expected = []\n",
    "\n",
    "for r in range(2):\n",
    "    for c in range(4):\n",
    "        Expected.append((Row_total[r] * Column_total[c])/float(Grand_Total))\n",
    "print Expected\n",
    "\n",
    "O_E = ((Observed - Expected) **2)/Expected\n",
    "print O_E   \n",
    "\n",
    "Chi_Square = sum(O_E)\n",
    "print Chi_Square\n",
    "\n",
    "# Step 4:\n",
    "# As the calculated value of chi-square = 5 is less than critical value of chi-square 7.815, null Hypothesis Ho is accepted.\n",
    "# With 95% confidence the Observed and Expected values are same."
   ]
  },
  {
   "cell_type": "markdown",
   "metadata": {},
   "source": [
    "#### Method 2:"
   ]
  },
  {
   "cell_type": "code",
   "execution_count": 101,
   "metadata": {},
   "outputs": [
    {
     "name": "stdout",
     "output_type": "stream",
     "text": [
      "Power_divergenceResult(statistic=5.0125313283208017, pvalue=0.65843389131911612)\n",
      " As the pvalue 0.658434 is more than significance level 0.05 ,Ho is accepted\n"
     ]
    }
   ],
   "source": [
    "# If the Observed and Expected values are know , Step 3 can be simplified as below-\n",
    "p=st.chisquare(f_obs= Observed,   \n",
    "                f_exp= Expected) \n",
    "print p\n",
    "print \" As the pvalue %f is more than significance level 0.05 ,Ho is accepted\" %(p[1])"
   ]
  },
  {
   "cell_type": "markdown",
   "metadata": {},
   "source": [
    "#### 2. Test of Independence :"
   ]
  },
  {
   "cell_type": "raw",
   "metadata": {},
   "source": [
    "Test the dependency relationship between two attributes .\n",
    "\n",
    "Chi-Square = Summation ( Observed - Expected)2/Expected\n",
    "Expected = (Row Total * Column Total)/Grand Total"
   ]
  },
  {
   "cell_type": "code",
   "execution_count": 120,
   "metadata": {},
   "outputs": [
    {
     "name": "stdout",
     "output_type": "stream",
     "text": [
      "       Male  Female\n",
      "Red      30      40\n",
      "Blue     50      20\n",
      "Green    40      20\n"
     ]
    }
   ],
   "source": [
    "# eg1 :\n",
    "\n",
    "x = {\"Male\":[30,50,40],\n",
    "    \"Female\":[40,20,20]}\n",
    "\n",
    "df = pd.DataFrame(x,index=['Red','Blue','Green'])\n",
    "df = df[['Male','Female']]\n",
    "print df"
   ]
  },
  {
   "cell_type": "markdown",
   "metadata": {},
   "source": [
    "#### Method 1:"
   ]
  },
  {
   "cell_type": "code",
   "execution_count": 125,
   "metadata": {},
   "outputs": [
    {
     "name": "stdout",
     "output_type": "stream",
     "text": [
      "[30 40 50 20 40 20]\n",
      "[42.0, 28.0, 42.0, 28.0, 36.0, 24.0]\n",
      "[ 144.  144.   64.   64.   16.   16.]\n",
      "13.4920634921\n"
     ]
    }
   ],
   "source": [
    "# Step 1:\n",
    "# Ho : There is no relationship between sex and preference of color\n",
    "# H1 :There is relationship between sex and preference of color\n",
    "\n",
    "# Step 2:\n",
    "# no_of_rows = 3\n",
    "# no_of_cols = 2\n",
    "\n",
    "# df = (no_of_rows-1)*(no_of_cols-1) = 2\n",
    "\n",
    "# The value of chi-square for degree of freedom 2 and significance level 0.05 is 5.991\n",
    "\n",
    "# Step 3:\n",
    "# Now we need to determine the observed and Expected values.\n",
    "\n",
    "Ob = df[['Male','Female']].values.tolist()\n",
    "Observed = np.concatenate(Ob,axis=0)\n",
    "print Observed\n",
    "\n",
    "Grand_Total = sum(Observed)\n",
    "Row_Total = df.sum(1)\n",
    "Column_Total = df.sum(0)\n",
    "\n",
    "Expected = []\n",
    "\n",
    "for r in range(3):\n",
    "    for c in range(2):\n",
    "        Expected.append((Row_Total[r] *Column_Total[c] )/float(Grand_Total))\n",
    "print Expected\n",
    "\n",
    "O_B = (Observed-Expected)**2\n",
    "print O_B\n",
    "\n",
    "ChiSquare_Test = sum(O_B/Expected)\n",
    "print ChiSquare_Test\n",
    "\n",
    "# Step 4:\n",
    "# As the calculated value of chi-square = 13.49 is more than critical value of chi-square 5.991, \n",
    "# null Hypothesis Ho is rejected.\n",
    "# Hence there is relationship between sex and preference of color."
   ]
  },
  {
   "cell_type": "markdown",
   "metadata": {},
   "source": [
    "#### Method 2:"
   ]
  },
  {
   "cell_type": "code",
   "execution_count": 130,
   "metadata": {},
   "outputs": [
    {
     "name": "stdout",
     "output_type": "stream",
     "text": [
      "(13.49206349206349, 0.001175535199643057, 2L, array([[ 42.,  28.],\n",
      "       [ 42.,  28.],\n",
      "       [ 36.,  24.]]))\n",
      "As the p value 0.001176 is less than the significance value 0.05, Ho is rejected which means there is relationship between sex and the preference of color\n"
     ]
    }
   ],
   "source": [
    "p=st.chi2_contingency(observed= df)\n",
    "print p\n",
    "print \"As the p value %f is less than the significance value 0.05, Ho is rejected which means there is relationship between sex and the preference of color\" %(p[1])"
   ]
  },
  {
   "cell_type": "markdown",
   "metadata": {},
   "source": [
    "#### 3. Test of Homogeniety :"
   ]
  },
  {
   "cell_type": "raw",
   "metadata": {},
   "source": [
    "To test whether two or more independant samples are drawn from the same population."
   ]
  },
  {
   "cell_type": "code",
   "execution_count": 132,
   "metadata": {},
   "outputs": [
    {
     "name": "stdout",
     "output_type": "stream",
     "text": [
      "   School1  School2\n",
      "A       15       10\n",
      "B       25       15\n",
      "C       35       40\n",
      "D       25       35\n"
     ]
    }
   ],
   "source": [
    "#eg1: Break up of students from School1 and School2 based on the grades.\n",
    "x = {\"School1\":[15,25,35,25],\n",
    "    \"School2\":[10,15,40,35]}\n",
    "\n",
    "df = pd.DataFrame(x,index=['A','B','C','D'])\n",
    "print df"
   ]
  },
  {
   "cell_type": "markdown",
   "metadata": {},
   "source": [
    "#### Method 1:"
   ]
  },
  {
   "cell_type": "code",
   "execution_count": 142,
   "metadata": {},
   "outputs": [
    {
     "name": "stdout",
     "output_type": "stream",
     "text": [
      "[15 10 25 15 35 40 25 35]\n",
      "[12.5, 12.5, 20.0, 20.0, 37.5, 37.5, 30.0, 30.0]\n",
      "5.5\n"
     ]
    }
   ],
   "source": [
    "# Step 1:\n",
    "# Ho : The two samples came from same population .\n",
    "# H1 : The two samples came from different population .\n",
    "\n",
    "# Step 2:\n",
    "# no_of_rows = 4\n",
    "# no_of_cols = 2\n",
    "\n",
    "# df = (no_of_rows-1)*(no_of_cols-1) = 3\n",
    "\n",
    "# The value of chi-square for degree of freedom 3 and significance level 0.05 is 7.81\n",
    "\n",
    "# Step 3:\n",
    "# Now we need to determine the observed and Expected values.\n",
    "\n",
    "Ob = df[['School1','School2']].values.tolist()\n",
    "Observed = np.concatenate(Ob,axis=0)\n",
    "print Observed\n",
    "\n",
    "Grand_Total = Observed.sum()\n",
    "Row_Total = df.sum(1)\n",
    "Column_Total = df.sum(0)\n",
    "\n",
    "Expected = []\n",
    "for r in range(4):\n",
    "    for c in range(2):\n",
    "        Expected.append((Row_Total[r] * Column_Total[c])/float(Grand_Total))\n",
    "print Expected\n",
    "        \n",
    "O_E = (Observed-Expected) ** 2\n",
    "\n",
    "ChiSquare_Test = sum((O_E)/Expected)\n",
    "print ChiSquare_Test\n",
    "\n",
    "# Step 4:\n",
    "# As the calculated value of chi-square = 5.5 is less than critical value of chi-square  7.81, \n",
    "# null Hypothesis Ho is accepted.\n",
    "# Hence two samples came from same population.\n"
   ]
  },
  {
   "cell_type": "markdown",
   "metadata": {},
   "source": [
    "#### Method 2:"
   ]
  },
  {
   "cell_type": "code",
   "execution_count": 144,
   "metadata": {},
   "outputs": [
    {
     "name": "stdout",
     "output_type": "stream",
     "text": [
      "(5.5, 0.13863861738241509, 3L, array([[ 12.5,  12.5],\n",
      "       [ 20. ,  20. ],\n",
      "       [ 37.5,  37.5],\n",
      "       [ 30. ,  30. ]]))\n",
      "As the p value 0.138639 is more than the significance value 0.05, Ho is accepted which means two samples came from same population\n"
     ]
    }
   ],
   "source": [
    "p=st.chi2_contingency(observed= df)\n",
    "print p\n",
    "print \"As the p value %f is more than the significance value 0.05, Ho is accepted which means two samples came from same population\" %(p[1])"
   ]
  },
  {
   "cell_type": "markdown",
   "metadata": {},
   "source": [
    "### Correlation :"
   ]
  },
  {
   "cell_type": "markdown",
   "metadata": {},
   "source": [
    "#### 1. Karl Pearson's Method"
   ]
  },
  {
   "cell_type": "raw",
   "metadata": {},
   "source": [
    "r =              Summation(XY) - (Summation(X) * Summation(Y))/N\n",
    "    -------------------------------------------------------------------------\n",
    "    Sqrt( (summation(X)2 -Summation(X)2/N) * (Summation(Y)2 -Summation(Y)2/N)\n",
    "    \n",
    "where r is coefficient of correlation\n",
    "\n",
    "t = r-p/ sqrt(1-r2/n-2)\n",
    "    "
   ]
  },
  {
   "cell_type": "markdown",
   "metadata": {},
   "source": [
    "#### Method 1:"
   ]
  },
  {
   "cell_type": "code",
   "execution_count": 66,
   "metadata": {},
   "outputs": [
    {
     "name": "stdout",
     "output_type": "stream",
     "text": [
      "0.838789839127\n",
      "3.08120719457\n",
      "(-2.7764451051977987, 2.7764451051977987)\n",
      "As the calculated value of t 3.081207 is greater than critical value of t 2.776445 , Ho is rejected , the relationship between X and Y is statistically significant\n"
     ]
    }
   ],
   "source": [
    "#eg1 .  The company manufactures different type of furnitures. It is using television for advertisements.\n",
    "# The following shows the amount of avertisement time vs number of electrical appliances sold.\n",
    "# X   25    18    32   21   35    29\n",
    "# Y   16    11    20   15   26    28\n",
    "\n",
    "x= [25,18,32,21,35,29]\n",
    "y= [16,11,20,15,26,28]\n",
    "N= len(x)\n",
    "\n",
    "s_x = sum(x)\n",
    "s_y = sum(y)\n",
    "\n",
    "x2=[]\n",
    "y2=[]\n",
    "\n",
    "for i in x:\n",
    "    x2.append(i*i)\n",
    "\n",
    "for j in y:\n",
    "    y2.append(j*j)\n",
    "\n",
    "s_x2 = sum(x2)\n",
    "s_y2 = sum(y2)\n",
    "\n",
    "xy = [x*y for x,y in zip(x,y)]\n",
    "s_xy = sum(xy)\n",
    "\n",
    "r = (s_xy - ((s_x * s_y)/N)) / sqrt((s_x2-((s_x * s_x)/N) )* (s_y2 - ((s_y * s_y)/N)) )\n",
    "print r\n",
    "\n",
    "# Now we will calculate the t -value\n",
    "# p =0 (No correlation)\n",
    "# p != 0 (Correlation)\n",
    "\n",
    "p=0\n",
    "degOfFreedom = N-2 \n",
    "\n",
    "t = (r -p)/sqrt((1-(r*r))/(N-2))\n",
    "print t\n",
    "\n",
    "# The critical value of t with 4 df and 0.05 significance level is \n",
    "\n",
    "t_value = st.t.interval(0.95,df=degOfFreedom)\n",
    "print t_value\n",
    "\n",
    "print \"As the calculated value of t %f is greater than critical value of t %f , Ho is rejected , the relationship between X and Y is statistically significant\" %(t,t_value[1])\n",
    "\n"
   ]
  },
  {
   "cell_type": "markdown",
   "metadata": {},
   "source": [
    "#### Method 2:"
   ]
  },
  {
   "cell_type": "code",
   "execution_count": 27,
   "metadata": {},
   "outputs": [
    {
     "name": "stdout",
     "output_type": "stream",
     "text": [
      "[[ 1.          0.83983422]\n",
      " [ 0.83983422  1.        ]]\n",
      "(0.83983422385386952, 0.036425241370833895)\n",
      "3.09420694269\n",
      "(-2.7764451051977987, 2.7764451051977987)\n",
      "As the calculated value of t 3.094207 is greater than critical value of t 2.776445 , Ho is rejected , the relationship between X and Y is statistically significant\n"
     ]
    }
   ],
   "source": [
    "# Above example using python stats module.\n",
    "x= [25,18,32,21,35,29]\n",
    "y= [16,11,20,15,26,28]\n",
    "\n",
    "x_array = np.asarray(x)\n",
    "y_array = np.asarray(y)\n",
    "\n",
    "r1= np.corrcoef(x_array, y_array)\n",
    "r2= st.pearsonr(x_array, y_array)\n",
    "\n",
    "print r1\n",
    "print r2\n",
    "\n",
    "# Now we will calculate the t -value\n",
    "# p =0 (No correlation)\n",
    "# p != 0 (Correlation)\n",
    "N = len(x)\n",
    "p=0\n",
    "degOfFreedom = N-2 \n",
    "\n",
    "r = r1[0,1]\n",
    "t = (r -p)/sqrt((1-(r*r))/(N-2))\n",
    "print t\n",
    "\n",
    "# The critical value of t with 4 df and 0.05 significance level is \n",
    "\n",
    "t_value = st.t.interval(0.95,df=degOfFreedom)\n",
    "print t_value\n",
    "\n",
    "print \"As the calculated value of t %f is greater than critical value of t %f , Ho is rejected , the relationship between X and Y is statistically significant\" %(t,t_value[1])\n",
    "\n",
    "\n"
   ]
  },
  {
   "cell_type": "markdown",
   "metadata": {},
   "source": [
    "#### Spearman's Correlation or Rank Correlation :"
   ]
  },
  {
   "cell_type": "raw",
   "metadata": {},
   "source": [
    "rs = 1 - 6*summation(d2) \n",
    "     -------------------\n",
    "          N(N*N-1)\n",
    "          \n",
    "where rs is Spearman's correlation or rank correlation\n",
    "d = Rank1 - Rank2"
   ]
  },
  {
   "cell_type": "markdown",
   "metadata": {},
   "source": [
    "#### Method 1:"
   ]
  },
  {
   "cell_type": "code",
   "execution_count": 105,
   "metadata": {},
   "outputs": [
    {
     "name": "stdout",
     "output_type": "stream",
     "text": [
      "0.854545454545\n",
      "As the calculated rank correlation 0.854545 is more than the critical value 0.636400, the null hypothesis is rejected.The performance in training and the sales performance of the salesmen are associated.\n"
     ]
    }
   ],
   "source": [
    "#eg1. 10 salesmen employed by a company were given a month's training . At the end of the specified training , they took a\n",
    "# test and were ranked by the basis of their performance . They were then posted to their respective areas.\n",
    "# At the end of six months ,they were rated in respect to their sales performance.\n",
    "\n",
    "# SalesMen                         1  2  3  4  5  6  7  8  9  10\n",
    "# Rank Obtained in training        4  6  1  3  9  7 10  2  8  5\n",
    "# Rank based on Sales Performance  5  8  3  1  7  6  9  2 10  4\n",
    "\n",
    "x = [4,6,1,3,9,7,10,2,8,5]\n",
    "y = [5,8,3,1,7,6,9,2,10,4]\n",
    "N = len(x)\n",
    "\n",
    "x_y = [a-b for a,b in zip(x,y)]\n",
    "\n",
    "square_xy =[]\n",
    "for i in x_y:\n",
    "    square_xy.append(i*i)\n",
    "\n",
    "sum_xy = sum(square_xy)\n",
    "\n",
    "rs = 1-((6*sum_xy)/float(N*((N*N)-1)))\n",
    "print rs\n",
    "\n",
    "# rs =0 , Ho is accepted\n",
    "# rs != 0 , Ho is rejected\n",
    "\n",
    "# As the sample size is less than 30 , we need to get the critical value from Rank Correlation table.\n",
    "# The critical value rs_value for n = 10 at 0.05 significance level is 0.6364\n",
    "\n",
    "rs_value = 0.6364\n",
    "print \"As the calculated rank correlation %f is more than the critical value %f, the null hypothesis is rejected.The performance in training and the sales performance of the salesmen are associated.\" %(rs,rs_value)"
   ]
  },
  {
   "cell_type": "markdown",
   "metadata": {},
   "source": [
    "#### Method 2:"
   ]
  },
  {
   "cell_type": "code",
   "execution_count": 28,
   "metadata": {},
   "outputs": [
    {
     "name": "stdout",
     "output_type": "stream",
     "text": [
      "0.854545454545\n",
      "As the calculated rank correlation 0.854545 is more than the critical value 0.636400, the null hypothesis is rejected.The performance in training and the sales performance of the salesmen are associated.\n"
     ]
    }
   ],
   "source": [
    "# Above example using python stats module.\n",
    "x = [4,6,1,3,9,7,10,2,8,5]\n",
    "y = [5,8,3,1,7,6,9,2,10,4]\n",
    "\n",
    "rs =  st.spearmanr(x, y)[0]\n",
    "print rs\n",
    "\n",
    "# rs =0 , Ho is accepted\n",
    "# rs != 0 , Ho is rejected\n",
    "\n",
    "# As the sample size is less than 30 , we need to get the critical value from Rank Correlation table.\n",
    "# The critical value rs_value for n = 10 at 0.05 significance level is 0.6364\n",
    "\n",
    "rs_value = 0.6364\n",
    "print \"As the calculated rank correlation %f is more than the critical value %f, the null hypothesis is rejected.The performance in training and the sales performance of the salesmen are associated.\" %(rs,rs_value)"
   ]
  },
  {
   "cell_type": "code",
   "execution_count": null,
   "metadata": {},
   "outputs": [],
   "source": []
  }
 ],
 "metadata": {
  "kernelspec": {
   "display_name": "Python 2",
   "language": "python",
   "name": "python2"
  },
  "language_info": {
   "codemirror_mode": {
    "name": "ipython",
    "version": 2
   },
   "file_extension": ".py",
   "mimetype": "text/x-python",
   "name": "python",
   "nbconvert_exporter": "python",
   "pygments_lexer": "ipython2",
   "version": "2.7.14"
  }
 },
 "nbformat": 4,
 "nbformat_minor": 2
}
